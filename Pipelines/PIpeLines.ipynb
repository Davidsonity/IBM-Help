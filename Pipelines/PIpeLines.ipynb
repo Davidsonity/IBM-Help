{
 "cells": [
  {
   "cell_type": "markdown",
   "id": "1ac84280-2781-4a73-a847-41a7f25662fa",
   "metadata": {
    "slideshow": {
     "slide_type": "slide"
    }
   },
   "source": [
    "## Table of Contents\n",
    "<ul>\n",
    "<li><a href=\"#introduction\">Introduction</a></li>\n",
    "<li><a href=\"#assess\">Data Assessment</a></li>\n",
    "<li><a href=\"#cleaning\">Data Cleaning/Preprocessing</a></li>\n",
    "<li><a href=\"#model\">Models</a></li>\n",
    "<li><a href=\"#Results\">Results/Findings</a></li>\n",
    "<li><a href=\"#sumbit\">Submission</a></li>\n",
    "</ul>"
   ]
  },
  {
   "cell_type": "markdown",
   "id": "0f7ec6ee-5a58-46ca-a64d-82b22deb28fe",
   "metadata": {},
   "source": [
    "<a id='introduction'></a>\n",
    "## Introduction\n",
    "#### About Dataset\n",
    "> The dataset contains 1460 observations and 81 features, with 79 explanatory variables describing (almost) every aspect of residential homes in Ames, Iowa. The dataset can be found https://www.kaggle.com/competitions/house-prices-advanced-regression-techniques/overview. The columns decription can be found https://www.kaggle.com/competitions/house-prices-advanced-regression-techniques/data?select=data_description.txt.\n",
    "#### Objective\n",
    ">The objective of this project is to build several linear regression model to predict the final price of each home and select the best."
   ]
  },
  {
   "cell_type": "markdown",
   "id": "94626a42-9880-4cb1-b974-2a4c993c6742",
   "metadata": {
    "slideshow": {
     "slide_type": "skip"
    }
   },
   "source": [
    "### Preliminary Wrangling"
   ]
  },
  {
   "cell_type": "code",
   "execution_count": 1,
   "id": "1cd6ddf2-c9f6-4c69-9a3b-88673a70cd48",
   "metadata": {
    "slideshow": {
     "slide_type": "skip"
    }
   },
   "outputs": [],
   "source": [
    "# import all packages and set plots to be embedded inline\n",
    "import numpy as np\n",
    "import pandas as pd\n",
    "import matplotlib.pyplot as plt\n",
    "import seaborn as sns\n",
    "import warnings\n",
    "warnings.filterwarnings('ignore')\n",
    "\n",
    "from sklearn.preprocessing import LabelEncoder\n",
    "from sklearn.model_selection import train_test_split\n",
    "\n",
    "sns.set(font_scale = 1.3)\n",
    "%matplotlib inline\n",
    "rs = 123"
   ]
  },
  {
   "cell_type": "code",
   "execution_count": 2,
   "id": "05489c65-928d-4483-b18d-8cd7abf647f8",
   "metadata": {
    "slideshow": {
     "slide_type": "skip"
    }
   },
   "outputs": [],
   "source": [
    "# Loading train and test dataset\n",
    "df = pd.read_csv('train.csv')\n",
    "# df_test = pd.read_csv('test.csv')"
   ]
  },
  {
   "cell_type": "code",
   "execution_count": 3,
   "id": "2b49441d-8a21-4b4d-885c-fb1a448fca68",
   "metadata": {
    "slideshow": {
     "slide_type": "skip"
    }
   },
   "outputs": [
    {
     "data": {
      "text/html": [
       "<div>\n",
       "<style scoped>\n",
       "    .dataframe tbody tr th:only-of-type {\n",
       "        vertical-align: middle;\n",
       "    }\n",
       "\n",
       "    .dataframe tbody tr th {\n",
       "        vertical-align: top;\n",
       "    }\n",
       "\n",
       "    .dataframe thead th {\n",
       "        text-align: right;\n",
       "    }\n",
       "</style>\n",
       "<table border=\"1\" class=\"dataframe\">\n",
       "  <thead>\n",
       "    <tr style=\"text-align: right;\">\n",
       "      <th></th>\n",
       "      <th>Id</th>\n",
       "      <th>MSSubClass</th>\n",
       "      <th>MSZoning</th>\n",
       "      <th>LotFrontage</th>\n",
       "      <th>LotArea</th>\n",
       "      <th>Street</th>\n",
       "      <th>Alley</th>\n",
       "      <th>LotShape</th>\n",
       "      <th>LandContour</th>\n",
       "      <th>Utilities</th>\n",
       "      <th>...</th>\n",
       "      <th>PoolArea</th>\n",
       "      <th>PoolQC</th>\n",
       "      <th>Fence</th>\n",
       "      <th>MiscFeature</th>\n",
       "      <th>MiscVal</th>\n",
       "      <th>MoSold</th>\n",
       "      <th>YrSold</th>\n",
       "      <th>SaleType</th>\n",
       "      <th>SaleCondition</th>\n",
       "      <th>SalePrice</th>\n",
       "    </tr>\n",
       "  </thead>\n",
       "  <tbody>\n",
       "    <tr>\n",
       "      <th>0</th>\n",
       "      <td>1</td>\n",
       "      <td>60</td>\n",
       "      <td>RL</td>\n",
       "      <td>65.0</td>\n",
       "      <td>8450</td>\n",
       "      <td>Pave</td>\n",
       "      <td>NaN</td>\n",
       "      <td>Reg</td>\n",
       "      <td>Lvl</td>\n",
       "      <td>AllPub</td>\n",
       "      <td>...</td>\n",
       "      <td>0</td>\n",
       "      <td>NaN</td>\n",
       "      <td>NaN</td>\n",
       "      <td>NaN</td>\n",
       "      <td>0</td>\n",
       "      <td>2</td>\n",
       "      <td>2008</td>\n",
       "      <td>WD</td>\n",
       "      <td>Normal</td>\n",
       "      <td>208500</td>\n",
       "    </tr>\n",
       "    <tr>\n",
       "      <th>1</th>\n",
       "      <td>2</td>\n",
       "      <td>20</td>\n",
       "      <td>RL</td>\n",
       "      <td>80.0</td>\n",
       "      <td>9600</td>\n",
       "      <td>Pave</td>\n",
       "      <td>NaN</td>\n",
       "      <td>Reg</td>\n",
       "      <td>Lvl</td>\n",
       "      <td>AllPub</td>\n",
       "      <td>...</td>\n",
       "      <td>0</td>\n",
       "      <td>NaN</td>\n",
       "      <td>NaN</td>\n",
       "      <td>NaN</td>\n",
       "      <td>0</td>\n",
       "      <td>5</td>\n",
       "      <td>2007</td>\n",
       "      <td>WD</td>\n",
       "      <td>Normal</td>\n",
       "      <td>181500</td>\n",
       "    </tr>\n",
       "    <tr>\n",
       "      <th>2</th>\n",
       "      <td>3</td>\n",
       "      <td>60</td>\n",
       "      <td>RL</td>\n",
       "      <td>68.0</td>\n",
       "      <td>11250</td>\n",
       "      <td>Pave</td>\n",
       "      <td>NaN</td>\n",
       "      <td>IR1</td>\n",
       "      <td>Lvl</td>\n",
       "      <td>AllPub</td>\n",
       "      <td>...</td>\n",
       "      <td>0</td>\n",
       "      <td>NaN</td>\n",
       "      <td>NaN</td>\n",
       "      <td>NaN</td>\n",
       "      <td>0</td>\n",
       "      <td>9</td>\n",
       "      <td>2008</td>\n",
       "      <td>WD</td>\n",
       "      <td>Normal</td>\n",
       "      <td>223500</td>\n",
       "    </tr>\n",
       "    <tr>\n",
       "      <th>3</th>\n",
       "      <td>4</td>\n",
       "      <td>70</td>\n",
       "      <td>RL</td>\n",
       "      <td>60.0</td>\n",
       "      <td>9550</td>\n",
       "      <td>Pave</td>\n",
       "      <td>NaN</td>\n",
       "      <td>IR1</td>\n",
       "      <td>Lvl</td>\n",
       "      <td>AllPub</td>\n",
       "      <td>...</td>\n",
       "      <td>0</td>\n",
       "      <td>NaN</td>\n",
       "      <td>NaN</td>\n",
       "      <td>NaN</td>\n",
       "      <td>0</td>\n",
       "      <td>2</td>\n",
       "      <td>2006</td>\n",
       "      <td>WD</td>\n",
       "      <td>Abnorml</td>\n",
       "      <td>140000</td>\n",
       "    </tr>\n",
       "    <tr>\n",
       "      <th>4</th>\n",
       "      <td>5</td>\n",
       "      <td>60</td>\n",
       "      <td>RL</td>\n",
       "      <td>84.0</td>\n",
       "      <td>14260</td>\n",
       "      <td>Pave</td>\n",
       "      <td>NaN</td>\n",
       "      <td>IR1</td>\n",
       "      <td>Lvl</td>\n",
       "      <td>AllPub</td>\n",
       "      <td>...</td>\n",
       "      <td>0</td>\n",
       "      <td>NaN</td>\n",
       "      <td>NaN</td>\n",
       "      <td>NaN</td>\n",
       "      <td>0</td>\n",
       "      <td>12</td>\n",
       "      <td>2008</td>\n",
       "      <td>WD</td>\n",
       "      <td>Normal</td>\n",
       "      <td>250000</td>\n",
       "    </tr>\n",
       "  </tbody>\n",
       "</table>\n",
       "<p>5 rows × 81 columns</p>\n",
       "</div>"
      ],
      "text/plain": [
       "   Id  MSSubClass MSZoning  LotFrontage  LotArea Street Alley LotShape  \\\n",
       "0   1          60       RL         65.0     8450   Pave   NaN      Reg   \n",
       "1   2          20       RL         80.0     9600   Pave   NaN      Reg   \n",
       "2   3          60       RL         68.0    11250   Pave   NaN      IR1   \n",
       "3   4          70       RL         60.0     9550   Pave   NaN      IR1   \n",
       "4   5          60       RL         84.0    14260   Pave   NaN      IR1   \n",
       "\n",
       "  LandContour Utilities  ... PoolArea PoolQC Fence MiscFeature MiscVal MoSold  \\\n",
       "0         Lvl    AllPub  ...        0    NaN   NaN         NaN       0      2   \n",
       "1         Lvl    AllPub  ...        0    NaN   NaN         NaN       0      5   \n",
       "2         Lvl    AllPub  ...        0    NaN   NaN         NaN       0      9   \n",
       "3         Lvl    AllPub  ...        0    NaN   NaN         NaN       0      2   \n",
       "4         Lvl    AllPub  ...        0    NaN   NaN         NaN       0     12   \n",
       "\n",
       "  YrSold  SaleType  SaleCondition  SalePrice  \n",
       "0   2008        WD         Normal     208500  \n",
       "1   2007        WD         Normal     181500  \n",
       "2   2008        WD         Normal     223500  \n",
       "3   2006        WD        Abnorml     140000  \n",
       "4   2008        WD         Normal     250000  \n",
       "\n",
       "[5 rows x 81 columns]"
      ]
     },
     "execution_count": 3,
     "metadata": {},
     "output_type": "execute_result"
    }
   ],
   "source": [
    "df.head()"
   ]
  },
  {
   "cell_type": "markdown",
   "id": "0dc9c389-bd35-4453-b704-8d00ee431bd4",
   "metadata": {},
   "source": [
    "#### Splitting Data into X(features) and Y(target)"
   ]
  },
  {
   "cell_type": "code",
   "execution_count": 4,
   "id": "ef576729-8862-4805-a062-225ccf04ce59",
   "metadata": {},
   "outputs": [],
   "source": [
    "x = df.drop(columns=['Id', 'SalePrice'], axis=1)\n",
    "y = df['SalePrice']"
   ]
  },
  {
   "cell_type": "markdown",
   "id": "c90982ea-a979-47ed-9915-1edb6f9227f0",
   "metadata": {},
   "source": [
    "#### Split Data into train and test data"
   ]
  },
  {
   "cell_type": "code",
   "execution_count": 84,
   "id": "80e25d90-06e5-401f-8d27-e752cc08a36c",
   "metadata": {},
   "outputs": [],
   "source": [
    "x_train, x_test, y_train, y_test = train_test_split(x, y, random_state=rs, test_size=0.1)"
   ]
  },
  {
   "cell_type": "markdown",
   "id": "f34c1480-f257-4712-888a-e244218edcbb",
   "metadata": {
    "slideshow": {
     "slide_type": "slide"
    },
    "tags": []
   },
   "source": [
    "<a id='assess'></a>\n",
    "### Data Assessment"
   ]
  },
  {
   "cell_type": "code",
   "execution_count": 85,
   "id": "5ae86ca1-02d5-4f4f-b1c2-4dfec5611f73",
   "metadata": {
    "slideshow": {
     "slide_type": "subslide"
    }
   },
   "outputs": [
    {
     "name": "stdout",
     "output_type": "stream",
     "text": [
      "<class 'pandas.core.frame.DataFrame'>\n",
      "Int64Index: 1314 entries, 302 to 1389\n",
      "Data columns (total 79 columns):\n",
      " #   Column         Non-Null Count  Dtype  \n",
      "---  ------         --------------  -----  \n",
      " 0   MSSubClass     1314 non-null   int64  \n",
      " 1   MSZoning       1314 non-null   object \n",
      " 2   LotFrontage    1089 non-null   float64\n",
      " 3   LotArea        1314 non-null   int64  \n",
      " 4   Street         1314 non-null   object \n",
      " 5   Alley          81 non-null     object \n",
      " 6   LotShape       1314 non-null   object \n",
      " 7   LandContour    1314 non-null   object \n",
      " 8   Utilities      1314 non-null   object \n",
      " 9   LotConfig      1314 non-null   object \n",
      " 10  LandSlope      1314 non-null   object \n",
      " 11  Neighborhood   1314 non-null   object \n",
      " 12  Condition1     1314 non-null   object \n",
      " 13  Condition2     1314 non-null   object \n",
      " 14  BldgType       1314 non-null   object \n",
      " 15  HouseStyle     1314 non-null   object \n",
      " 16  OverallQual    1314 non-null   int64  \n",
      " 17  OverallCond    1314 non-null   int64  \n",
      " 18  YearBuilt      1314 non-null   int64  \n",
      " 19  YearRemodAdd   1314 non-null   int64  \n",
      " 20  RoofStyle      1314 non-null   object \n",
      " 21  RoofMatl       1314 non-null   object \n",
      " 22  Exterior1st    1314 non-null   object \n",
      " 23  Exterior2nd    1314 non-null   object \n",
      " 24  MasVnrType     1307 non-null   object \n",
      " 25  MasVnrArea     1307 non-null   float64\n",
      " 26  ExterQual      1314 non-null   object \n",
      " 27  ExterCond      1314 non-null   object \n",
      " 28  Foundation     1314 non-null   object \n",
      " 29  BsmtQual       1280 non-null   object \n",
      " 30  BsmtCond       1280 non-null   object \n",
      " 31  BsmtExposure   1279 non-null   object \n",
      " 32  BsmtFinType1   1280 non-null   object \n",
      " 33  BsmtFinSF1     1314 non-null   int64  \n",
      " 34  BsmtFinType2   1280 non-null   object \n",
      " 35  BsmtFinSF2     1314 non-null   int64  \n",
      " 36  BsmtUnfSF      1314 non-null   int64  \n",
      " 37  TotalBsmtSF    1314 non-null   int64  \n",
      " 38  Heating        1314 non-null   object \n",
      " 39  HeatingQC      1314 non-null   object \n",
      " 40  CentralAir     1314 non-null   object \n",
      " 41  Electrical     1313 non-null   object \n",
      " 42  1stFlrSF       1314 non-null   int64  \n",
      " 43  2ndFlrSF       1314 non-null   int64  \n",
      " 44  LowQualFinSF   1314 non-null   int64  \n",
      " 45  GrLivArea      1314 non-null   int64  \n",
      " 46  BsmtFullBath   1314 non-null   int64  \n",
      " 47  BsmtHalfBath   1314 non-null   int64  \n",
      " 48  FullBath       1314 non-null   int64  \n",
      " 49  HalfBath       1314 non-null   int64  \n",
      " 50  BedroomAbvGr   1314 non-null   int64  \n",
      " 51  KitchenAbvGr   1314 non-null   int64  \n",
      " 52  KitchenQual    1314 non-null   object \n",
      " 53  TotRmsAbvGrd   1314 non-null   int64  \n",
      " 54  Functional     1314 non-null   object \n",
      " 55  Fireplaces     1314 non-null   int64  \n",
      " 56  FireplaceQu    687 non-null    object \n",
      " 57  GarageType     1241 non-null   object \n",
      " 58  GarageYrBlt    1241 non-null   float64\n",
      " 59  GarageFinish   1241 non-null   object \n",
      " 60  GarageCars     1314 non-null   int64  \n",
      " 61  GarageArea     1314 non-null   int64  \n",
      " 62  GarageQual     1241 non-null   object \n",
      " 63  GarageCond     1241 non-null   object \n",
      " 64  PavedDrive     1314 non-null   object \n",
      " 65  WoodDeckSF     1314 non-null   int64  \n",
      " 66  OpenPorchSF    1314 non-null   int64  \n",
      " 67  EnclosedPorch  1314 non-null   int64  \n",
      " 68  3SsnPorch      1314 non-null   int64  \n",
      " 69  ScreenPorch    1314 non-null   int64  \n",
      " 70  PoolArea       1314 non-null   int64  \n",
      " 71  PoolQC         7 non-null      object \n",
      " 72  Fence          259 non-null    object \n",
      " 73  MiscFeature    50 non-null     object \n",
      " 74  MiscVal        1314 non-null   int64  \n",
      " 75  MoSold         1314 non-null   int64  \n",
      " 76  YrSold         1314 non-null   int64  \n",
      " 77  SaleType       1314 non-null   object \n",
      " 78  SaleCondition  1314 non-null   object \n",
      "dtypes: float64(3), int64(33), object(43)\n",
      "memory usage: 821.2+ KB\n"
     ]
    }
   ],
   "source": [
    "x_train.info()"
   ]
  },
  {
   "cell_type": "code",
   "execution_count": 86,
   "id": "5618f156-146c-4dea-8a1f-d6f2fbd91598",
   "metadata": {
    "slideshow": {
     "slide_type": "subslide"
    }
   },
   "outputs": [
    {
     "data": {
      "text/html": [
       "<div>\n",
       "<style scoped>\n",
       "    .dataframe tbody tr th:only-of-type {\n",
       "        vertical-align: middle;\n",
       "    }\n",
       "\n",
       "    .dataframe tbody tr th {\n",
       "        vertical-align: top;\n",
       "    }\n",
       "\n",
       "    .dataframe thead th {\n",
       "        text-align: right;\n",
       "    }\n",
       "</style>\n",
       "<table border=\"1\" class=\"dataframe\">\n",
       "  <thead>\n",
       "    <tr style=\"text-align: right;\">\n",
       "      <th></th>\n",
       "      <th>count</th>\n",
       "      <th>mean</th>\n",
       "      <th>std</th>\n",
       "      <th>min</th>\n",
       "      <th>25%</th>\n",
       "      <th>50%</th>\n",
       "      <th>75%</th>\n",
       "      <th>max</th>\n",
       "    </tr>\n",
       "  </thead>\n",
       "  <tbody>\n",
       "    <tr>\n",
       "      <th>MSSubClass</th>\n",
       "      <td>1314.0</td>\n",
       "      <td>56.472603</td>\n",
       "      <td>42.036646</td>\n",
       "      <td>20.0</td>\n",
       "      <td>20.00</td>\n",
       "      <td>50.0</td>\n",
       "      <td>70.00</td>\n",
       "      <td>190.0</td>\n",
       "    </tr>\n",
       "    <tr>\n",
       "      <th>LotFrontage</th>\n",
       "      <td>1089.0</td>\n",
       "      <td>69.641873</td>\n",
       "      <td>23.031794</td>\n",
       "      <td>21.0</td>\n",
       "      <td>59.00</td>\n",
       "      <td>69.0</td>\n",
       "      <td>80.00</td>\n",
       "      <td>313.0</td>\n",
       "    </tr>\n",
       "    <tr>\n",
       "      <th>LotArea</th>\n",
       "      <td>1314.0</td>\n",
       "      <td>10273.261035</td>\n",
       "      <td>8997.895541</td>\n",
       "      <td>1300.0</td>\n",
       "      <td>7500.00</td>\n",
       "      <td>9391.0</td>\n",
       "      <td>11509.00</td>\n",
       "      <td>215245.0</td>\n",
       "    </tr>\n",
       "    <tr>\n",
       "      <th>OverallQual</th>\n",
       "      <td>1314.0</td>\n",
       "      <td>6.076104</td>\n",
       "      <td>1.392612</td>\n",
       "      <td>1.0</td>\n",
       "      <td>5.00</td>\n",
       "      <td>6.0</td>\n",
       "      <td>7.00</td>\n",
       "      <td>10.0</td>\n",
       "    </tr>\n",
       "    <tr>\n",
       "      <th>OverallCond</th>\n",
       "      <td>1314.0</td>\n",
       "      <td>5.570015</td>\n",
       "      <td>1.112848</td>\n",
       "      <td>1.0</td>\n",
       "      <td>5.00</td>\n",
       "      <td>5.0</td>\n",
       "      <td>6.00</td>\n",
       "      <td>9.0</td>\n",
       "    </tr>\n",
       "    <tr>\n",
       "      <th>YearBuilt</th>\n",
       "      <td>1314.0</td>\n",
       "      <td>1970.995434</td>\n",
       "      <td>30.198127</td>\n",
       "      <td>1872.0</td>\n",
       "      <td>1953.00</td>\n",
       "      <td>1972.0</td>\n",
       "      <td>2000.00</td>\n",
       "      <td>2010.0</td>\n",
       "    </tr>\n",
       "    <tr>\n",
       "      <th>YearRemodAdd</th>\n",
       "      <td>1314.0</td>\n",
       "      <td>1984.659056</td>\n",
       "      <td>20.639754</td>\n",
       "      <td>1950.0</td>\n",
       "      <td>1966.25</td>\n",
       "      <td>1993.0</td>\n",
       "      <td>2004.00</td>\n",
       "      <td>2010.0</td>\n",
       "    </tr>\n",
       "    <tr>\n",
       "      <th>MasVnrArea</th>\n",
       "      <td>1307.0</td>\n",
       "      <td>102.514155</td>\n",
       "      <td>178.301563</td>\n",
       "      <td>0.0</td>\n",
       "      <td>0.00</td>\n",
       "      <td>0.0</td>\n",
       "      <td>165.50</td>\n",
       "      <td>1378.0</td>\n",
       "    </tr>\n",
       "    <tr>\n",
       "      <th>BsmtFinSF1</th>\n",
       "      <td>1314.0</td>\n",
       "      <td>441.425419</td>\n",
       "      <td>459.276687</td>\n",
       "      <td>0.0</td>\n",
       "      <td>0.00</td>\n",
       "      <td>376.0</td>\n",
       "      <td>704.75</td>\n",
       "      <td>5644.0</td>\n",
       "    </tr>\n",
       "    <tr>\n",
       "      <th>BsmtFinSF2</th>\n",
       "      <td>1314.0</td>\n",
       "      <td>47.067732</td>\n",
       "      <td>163.952408</td>\n",
       "      <td>0.0</td>\n",
       "      <td>0.00</td>\n",
       "      <td>0.0</td>\n",
       "      <td>0.00</td>\n",
       "      <td>1474.0</td>\n",
       "    </tr>\n",
       "    <tr>\n",
       "      <th>BsmtUnfSF</th>\n",
       "      <td>1314.0</td>\n",
       "      <td>567.968037</td>\n",
       "      <td>443.038476</td>\n",
       "      <td>0.0</td>\n",
       "      <td>223.25</td>\n",
       "      <td>480.0</td>\n",
       "      <td>803.75</td>\n",
       "      <td>2336.0</td>\n",
       "    </tr>\n",
       "    <tr>\n",
       "      <th>TotalBsmtSF</th>\n",
       "      <td>1314.0</td>\n",
       "      <td>1056.461187</td>\n",
       "      <td>442.985762</td>\n",
       "      <td>0.0</td>\n",
       "      <td>792.25</td>\n",
       "      <td>990.5</td>\n",
       "      <td>1299.75</td>\n",
       "      <td>6110.0</td>\n",
       "    </tr>\n",
       "    <tr>\n",
       "      <th>1stFlrSF</th>\n",
       "      <td>1314.0</td>\n",
       "      <td>1162.856164</td>\n",
       "      <td>392.322211</td>\n",
       "      <td>334.0</td>\n",
       "      <td>877.75</td>\n",
       "      <td>1085.5</td>\n",
       "      <td>1389.75</td>\n",
       "      <td>4692.0</td>\n",
       "    </tr>\n",
       "    <tr>\n",
       "      <th>2ndFlrSF</th>\n",
       "      <td>1314.0</td>\n",
       "      <td>346.984018</td>\n",
       "      <td>435.986676</td>\n",
       "      <td>0.0</td>\n",
       "      <td>0.00</td>\n",
       "      <td>0.0</td>\n",
       "      <td>728.00</td>\n",
       "      <td>2065.0</td>\n",
       "    </tr>\n",
       "    <tr>\n",
       "      <th>LowQualFinSF</th>\n",
       "      <td>1314.0</td>\n",
       "      <td>5.637747</td>\n",
       "      <td>46.997979</td>\n",
       "      <td>0.0</td>\n",
       "      <td>0.00</td>\n",
       "      <td>0.0</td>\n",
       "      <td>0.00</td>\n",
       "      <td>528.0</td>\n",
       "    </tr>\n",
       "    <tr>\n",
       "      <th>GrLivArea</th>\n",
       "      <td>1314.0</td>\n",
       "      <td>1515.477930</td>\n",
       "      <td>529.669657</td>\n",
       "      <td>334.0</td>\n",
       "      <td>1128.00</td>\n",
       "      <td>1457.0</td>\n",
       "      <td>1782.75</td>\n",
       "      <td>5642.0</td>\n",
       "    </tr>\n",
       "    <tr>\n",
       "      <th>BsmtFullBath</th>\n",
       "      <td>1314.0</td>\n",
       "      <td>0.414764</td>\n",
       "      <td>0.518473</td>\n",
       "      <td>0.0</td>\n",
       "      <td>0.00</td>\n",
       "      <td>0.0</td>\n",
       "      <td>1.00</td>\n",
       "      <td>3.0</td>\n",
       "    </tr>\n",
       "    <tr>\n",
       "      <th>BsmtHalfBath</th>\n",
       "      <td>1314.0</td>\n",
       "      <td>0.056317</td>\n",
       "      <td>0.233899</td>\n",
       "      <td>0.0</td>\n",
       "      <td>0.00</td>\n",
       "      <td>0.0</td>\n",
       "      <td>0.00</td>\n",
       "      <td>2.0</td>\n",
       "    </tr>\n",
       "    <tr>\n",
       "      <th>FullBath</th>\n",
       "      <td>1314.0</td>\n",
       "      <td>1.567732</td>\n",
       "      <td>0.549508</td>\n",
       "      <td>0.0</td>\n",
       "      <td>1.00</td>\n",
       "      <td>2.0</td>\n",
       "      <td>2.00</td>\n",
       "      <td>3.0</td>\n",
       "    </tr>\n",
       "    <tr>\n",
       "      <th>HalfBath</th>\n",
       "      <td>1314.0</td>\n",
       "      <td>0.379756</td>\n",
       "      <td>0.502470</td>\n",
       "      <td>0.0</td>\n",
       "      <td>0.00</td>\n",
       "      <td>0.0</td>\n",
       "      <td>1.00</td>\n",
       "      <td>2.0</td>\n",
       "    </tr>\n",
       "    <tr>\n",
       "      <th>BedroomAbvGr</th>\n",
       "      <td>1314.0</td>\n",
       "      <td>2.872907</td>\n",
       "      <td>0.821352</td>\n",
       "      <td>0.0</td>\n",
       "      <td>2.00</td>\n",
       "      <td>3.0</td>\n",
       "      <td>3.00</td>\n",
       "      <td>8.0</td>\n",
       "    </tr>\n",
       "    <tr>\n",
       "      <th>KitchenAbvGr</th>\n",
       "      <td>1314.0</td>\n",
       "      <td>1.048706</td>\n",
       "      <td>0.218843</td>\n",
       "      <td>1.0</td>\n",
       "      <td>1.00</td>\n",
       "      <td>1.0</td>\n",
       "      <td>1.00</td>\n",
       "      <td>3.0</td>\n",
       "    </tr>\n",
       "    <tr>\n",
       "      <th>TotRmsAbvGrd</th>\n",
       "      <td>1314.0</td>\n",
       "      <td>6.514460</td>\n",
       "      <td>1.626659</td>\n",
       "      <td>2.0</td>\n",
       "      <td>5.00</td>\n",
       "      <td>6.0</td>\n",
       "      <td>7.00</td>\n",
       "      <td>14.0</td>\n",
       "    </tr>\n",
       "    <tr>\n",
       "      <th>Fireplaces</th>\n",
       "      <td>1314.0</td>\n",
       "      <td>0.601979</td>\n",
       "      <td>0.634640</td>\n",
       "      <td>0.0</td>\n",
       "      <td>0.00</td>\n",
       "      <td>1.0</td>\n",
       "      <td>1.00</td>\n",
       "      <td>3.0</td>\n",
       "    </tr>\n",
       "    <tr>\n",
       "      <th>GarageYrBlt</th>\n",
       "      <td>1241.0</td>\n",
       "      <td>1978.209508</td>\n",
       "      <td>24.759774</td>\n",
       "      <td>1900.0</td>\n",
       "      <td>1961.00</td>\n",
       "      <td>1979.0</td>\n",
       "      <td>2002.00</td>\n",
       "      <td>2010.0</td>\n",
       "    </tr>\n",
       "    <tr>\n",
       "      <th>GarageCars</th>\n",
       "      <td>1314.0</td>\n",
       "      <td>1.756469</td>\n",
       "      <td>0.740551</td>\n",
       "      <td>0.0</td>\n",
       "      <td>1.00</td>\n",
       "      <td>2.0</td>\n",
       "      <td>2.00</td>\n",
       "      <td>4.0</td>\n",
       "    </tr>\n",
       "    <tr>\n",
       "      <th>GarageArea</th>\n",
       "      <td>1314.0</td>\n",
       "      <td>468.924658</td>\n",
       "      <td>210.640769</td>\n",
       "      <td>0.0</td>\n",
       "      <td>325.25</td>\n",
       "      <td>476.5</td>\n",
       "      <td>576.00</td>\n",
       "      <td>1418.0</td>\n",
       "    </tr>\n",
       "    <tr>\n",
       "      <th>WoodDeckSF</th>\n",
       "      <td>1314.0</td>\n",
       "      <td>94.281583</td>\n",
       "      <td>125.436492</td>\n",
       "      <td>0.0</td>\n",
       "      <td>0.00</td>\n",
       "      <td>0.0</td>\n",
       "      <td>168.00</td>\n",
       "      <td>857.0</td>\n",
       "    </tr>\n",
       "    <tr>\n",
       "      <th>OpenPorchSF</th>\n",
       "      <td>1314.0</td>\n",
       "      <td>45.765601</td>\n",
       "      <td>65.757545</td>\n",
       "      <td>0.0</td>\n",
       "      <td>0.00</td>\n",
       "      <td>24.0</td>\n",
       "      <td>66.75</td>\n",
       "      <td>547.0</td>\n",
       "    </tr>\n",
       "    <tr>\n",
       "      <th>EnclosedPorch</th>\n",
       "      <td>1314.0</td>\n",
       "      <td>21.726788</td>\n",
       "      <td>60.766423</td>\n",
       "      <td>0.0</td>\n",
       "      <td>0.00</td>\n",
       "      <td>0.0</td>\n",
       "      <td>0.00</td>\n",
       "      <td>552.0</td>\n",
       "    </tr>\n",
       "    <tr>\n",
       "      <th>3SsnPorch</th>\n",
       "      <td>1314.0</td>\n",
       "      <td>3.624049</td>\n",
       "      <td>30.320430</td>\n",
       "      <td>0.0</td>\n",
       "      <td>0.00</td>\n",
       "      <td>0.0</td>\n",
       "      <td>0.00</td>\n",
       "      <td>508.0</td>\n",
       "    </tr>\n",
       "    <tr>\n",
       "      <th>ScreenPorch</th>\n",
       "      <td>1314.0</td>\n",
       "      <td>13.987062</td>\n",
       "      <td>53.854129</td>\n",
       "      <td>0.0</td>\n",
       "      <td>0.00</td>\n",
       "      <td>0.0</td>\n",
       "      <td>0.00</td>\n",
       "      <td>480.0</td>\n",
       "    </tr>\n",
       "    <tr>\n",
       "      <th>PoolArea</th>\n",
       "      <td>1314.0</td>\n",
       "      <td>3.065449</td>\n",
       "      <td>42.341109</td>\n",
       "      <td>0.0</td>\n",
       "      <td>0.00</td>\n",
       "      <td>0.0</td>\n",
       "      <td>0.00</td>\n",
       "      <td>738.0</td>\n",
       "    </tr>\n",
       "    <tr>\n",
       "      <th>MiscVal</th>\n",
       "      <td>1314.0</td>\n",
       "      <td>46.951294</td>\n",
       "      <td>522.283421</td>\n",
       "      <td>0.0</td>\n",
       "      <td>0.00</td>\n",
       "      <td>0.0</td>\n",
       "      <td>0.00</td>\n",
       "      <td>15500.0</td>\n",
       "    </tr>\n",
       "    <tr>\n",
       "      <th>MoSold</th>\n",
       "      <td>1314.0</td>\n",
       "      <td>6.302131</td>\n",
       "      <td>2.698206</td>\n",
       "      <td>1.0</td>\n",
       "      <td>5.00</td>\n",
       "      <td>6.0</td>\n",
       "      <td>8.00</td>\n",
       "      <td>12.0</td>\n",
       "    </tr>\n",
       "    <tr>\n",
       "      <th>YrSold</th>\n",
       "      <td>1314.0</td>\n",
       "      <td>2007.840183</td>\n",
       "      <td>1.332824</td>\n",
       "      <td>2006.0</td>\n",
       "      <td>2007.00</td>\n",
       "      <td>2008.0</td>\n",
       "      <td>2009.00</td>\n",
       "      <td>2010.0</td>\n",
       "    </tr>\n",
       "  </tbody>\n",
       "</table>\n",
       "</div>"
      ],
      "text/plain": [
       "                count          mean          std     min      25%     50%  \\\n",
       "MSSubClass     1314.0     56.472603    42.036646    20.0    20.00    50.0   \n",
       "LotFrontage    1089.0     69.641873    23.031794    21.0    59.00    69.0   \n",
       "LotArea        1314.0  10273.261035  8997.895541  1300.0  7500.00  9391.0   \n",
       "OverallQual    1314.0      6.076104     1.392612     1.0     5.00     6.0   \n",
       "OverallCond    1314.0      5.570015     1.112848     1.0     5.00     5.0   \n",
       "YearBuilt      1314.0   1970.995434    30.198127  1872.0  1953.00  1972.0   \n",
       "YearRemodAdd   1314.0   1984.659056    20.639754  1950.0  1966.25  1993.0   \n",
       "MasVnrArea     1307.0    102.514155   178.301563     0.0     0.00     0.0   \n",
       "BsmtFinSF1     1314.0    441.425419   459.276687     0.0     0.00   376.0   \n",
       "BsmtFinSF2     1314.0     47.067732   163.952408     0.0     0.00     0.0   \n",
       "BsmtUnfSF      1314.0    567.968037   443.038476     0.0   223.25   480.0   \n",
       "TotalBsmtSF    1314.0   1056.461187   442.985762     0.0   792.25   990.5   \n",
       "1stFlrSF       1314.0   1162.856164   392.322211   334.0   877.75  1085.5   \n",
       "2ndFlrSF       1314.0    346.984018   435.986676     0.0     0.00     0.0   \n",
       "LowQualFinSF   1314.0      5.637747    46.997979     0.0     0.00     0.0   \n",
       "GrLivArea      1314.0   1515.477930   529.669657   334.0  1128.00  1457.0   \n",
       "BsmtFullBath   1314.0      0.414764     0.518473     0.0     0.00     0.0   \n",
       "BsmtHalfBath   1314.0      0.056317     0.233899     0.0     0.00     0.0   \n",
       "FullBath       1314.0      1.567732     0.549508     0.0     1.00     2.0   \n",
       "HalfBath       1314.0      0.379756     0.502470     0.0     0.00     0.0   \n",
       "BedroomAbvGr   1314.0      2.872907     0.821352     0.0     2.00     3.0   \n",
       "KitchenAbvGr   1314.0      1.048706     0.218843     1.0     1.00     1.0   \n",
       "TotRmsAbvGrd   1314.0      6.514460     1.626659     2.0     5.00     6.0   \n",
       "Fireplaces     1314.0      0.601979     0.634640     0.0     0.00     1.0   \n",
       "GarageYrBlt    1241.0   1978.209508    24.759774  1900.0  1961.00  1979.0   \n",
       "GarageCars     1314.0      1.756469     0.740551     0.0     1.00     2.0   \n",
       "GarageArea     1314.0    468.924658   210.640769     0.0   325.25   476.5   \n",
       "WoodDeckSF     1314.0     94.281583   125.436492     0.0     0.00     0.0   \n",
       "OpenPorchSF    1314.0     45.765601    65.757545     0.0     0.00    24.0   \n",
       "EnclosedPorch  1314.0     21.726788    60.766423     0.0     0.00     0.0   \n",
       "3SsnPorch      1314.0      3.624049    30.320430     0.0     0.00     0.0   \n",
       "ScreenPorch    1314.0     13.987062    53.854129     0.0     0.00     0.0   \n",
       "PoolArea       1314.0      3.065449    42.341109     0.0     0.00     0.0   \n",
       "MiscVal        1314.0     46.951294   522.283421     0.0     0.00     0.0   \n",
       "MoSold         1314.0      6.302131     2.698206     1.0     5.00     6.0   \n",
       "YrSold         1314.0   2007.840183     1.332824  2006.0  2007.00  2008.0   \n",
       "\n",
       "                    75%       max  \n",
       "MSSubClass        70.00     190.0  \n",
       "LotFrontage       80.00     313.0  \n",
       "LotArea        11509.00  215245.0  \n",
       "OverallQual        7.00      10.0  \n",
       "OverallCond        6.00       9.0  \n",
       "YearBuilt       2000.00    2010.0  \n",
       "YearRemodAdd    2004.00    2010.0  \n",
       "MasVnrArea       165.50    1378.0  \n",
       "BsmtFinSF1       704.75    5644.0  \n",
       "BsmtFinSF2         0.00    1474.0  \n",
       "BsmtUnfSF        803.75    2336.0  \n",
       "TotalBsmtSF     1299.75    6110.0  \n",
       "1stFlrSF        1389.75    4692.0  \n",
       "2ndFlrSF         728.00    2065.0  \n",
       "LowQualFinSF       0.00     528.0  \n",
       "GrLivArea       1782.75    5642.0  \n",
       "BsmtFullBath       1.00       3.0  \n",
       "BsmtHalfBath       0.00       2.0  \n",
       "FullBath           2.00       3.0  \n",
       "HalfBath           1.00       2.0  \n",
       "BedroomAbvGr       3.00       8.0  \n",
       "KitchenAbvGr       1.00       3.0  \n",
       "TotRmsAbvGrd       7.00      14.0  \n",
       "Fireplaces         1.00       3.0  \n",
       "GarageYrBlt     2002.00    2010.0  \n",
       "GarageCars         2.00       4.0  \n",
       "GarageArea       576.00    1418.0  \n",
       "WoodDeckSF       168.00     857.0  \n",
       "OpenPorchSF       66.75     547.0  \n",
       "EnclosedPorch      0.00     552.0  \n",
       "3SsnPorch          0.00     508.0  \n",
       "ScreenPorch        0.00     480.0  \n",
       "PoolArea           0.00     738.0  \n",
       "MiscVal            0.00   15500.0  \n",
       "MoSold             8.00      12.0  \n",
       "YrSold          2009.00    2010.0  "
      ]
     },
     "execution_count": 86,
     "metadata": {},
     "output_type": "execute_result"
    }
   ],
   "source": [
    "x_train.describe().T"
   ]
  },
  {
   "cell_type": "code",
   "execution_count": 87,
   "id": "eccdac3c-6a07-41d5-b38d-e57daed5c905",
   "metadata": {
    "slideshow": {
     "slide_type": "skip"
    }
   },
   "outputs": [
    {
     "data": {
      "text/plain": [
       "Index(['MasVnrArea', 'BsmtFinSF1', 'BsmtFinSF2', 'BsmtUnfSF', 'TotalBsmtSF',\n",
       "       '2ndFlrSF', 'LowQualFinSF', 'BsmtFullBath', 'BsmtHalfBath', 'FullBath',\n",
       "       'HalfBath', 'BedroomAbvGr', 'KitchenAbvGr', 'Fireplaces', 'GarageCars',\n",
       "       'GarageArea', 'WoodDeckSF', 'OpenPorchSF', 'EnclosedPorch', '3SsnPorch',\n",
       "       'ScreenPorch', 'PoolArea', 'MiscVal'],\n",
       "      dtype='object')"
      ]
     },
     "execution_count": 87,
     "metadata": {},
     "output_type": "execute_result"
    }
   ],
   "source": [
    "x_train.describe().T[df.describe().T['min']==0].index"
   ]
  },
  {
   "cell_type": "markdown",
   "id": "8105a685-ae88-410c-b8a3-54411a12e13d",
   "metadata": {
    "slideshow": {
     "slide_type": "slide"
    }
   },
   "source": [
    "#### Visualizing Numerical Columns"
   ]
  },
  {
   "cell_type": "code",
   "execution_count": 88,
   "id": "72c5423d-8fe6-41ea-aba9-eeafe7ddf685",
   "metadata": {
    "slideshow": {
     "slide_type": "-"
    }
   },
   "outputs": [
    {
     "data": {
      "image/png": "[encoded data removed]",
      "text/plain": [
       "<Figure size 2160x2160 with 36 Axes>"
      ]
     },
     "metadata": {},
     "output_type": "display_data"
    }
   ],
   "source": [
    "sns.set(font_scale = 1.5)\n",
    "x_train.hist(figsize = (30, 30));"
   ]
  },
  {
   "cell_type": "markdown",
   "id": "888a311f-4067-4eb4-8992-3dc1418053ce",
   "metadata": {
    "slideshow": {
     "slide_type": "subslide"
    }
   },
   "source": [
    "**Insight**\n",
    "- The columns listed below has a min value equal to 0. This Zero also mean unavailable:\n",
    ">MasVnrArea, BsmtFinSF1, BsmtFinSF2, BsmtUnfSF, TotalBsmtSF, 2ndFlrSF, LowQualFinSF, BsmtFullBath, BsmtHalfBath, FullBath, HalfBath, BedroomAbvGr, KitchenAbvGr, Fireplaces, GarageCars, GarageArea, WoodDeckSF, OpenPorchSF, EnclosedPorch, 3SsnPorch, ScreenPorch, PoolArea, MiscVal."
   ]
  },
  {
   "cell_type": "code",
   "execution_count": 89,
   "id": "9af84371-1030-4599-b9db-fefbce961fc9",
   "metadata": {},
   "outputs": [
    {
     "data": {
      "text/plain": [
       "PoolQC          1307\n",
       "MiscFeature     1264\n",
       "Alley           1233\n",
       "Fence           1055\n",
       "FireplaceQu      627\n",
       "LotFrontage      225\n",
       "GarageType        73\n",
       "GarageYrBlt       73\n",
       "GarageFinish      73\n",
       "GarageQual        73\n",
       "GarageCond        73\n",
       "BsmtExposure      35\n",
       "BsmtFinType1      34\n",
       "BsmtFinType2      34\n",
       "BsmtCond          34\n",
       "BsmtQual          34\n",
       "MasVnrArea         7\n",
       "MasVnrType         7\n",
       "Electrical         1\n",
       "dtype: int64"
      ]
     },
     "execution_count": 89,
     "metadata": {},
     "output_type": "execute_result"
    }
   ],
   "source": [
    "# Sorting columns with null values\n",
    "columns_null = [cols for cols in x_train.columns if x_train[cols].isnull().sum() > 0]\n",
    "x_train[columns_null].isnull().sum().sort_values(ascending=False)"
   ]
  },
  {
   "cell_type": "markdown",
   "id": "c7d0ff25-b30b-4a01-a657-431926ebb31c",
   "metadata": {
    "slideshow": {
     "slide_type": "slide"
    },
    "tags": []
   },
   "source": [
    "### **`Data Assessment Results`**\n",
    "- **Fill NaN with 0:** LotFrontage, MasVnrArea, GarageYrBlt, BsmtFinSF1, BsmtFinSF2, BsmtUnfSF, TotalBsmtSF, BsmtFullBath, BsmtHalfBath, GarageCars, GarageArea\n",
    "- **MasVnrType:** Convert None to NaN\n",
    "- **Label Encode:** Street, Utilities, CentralAir\n",
    "- **One-Hot Encode:** MSZoning, Alley, LotShape, LandContour, LotConfig, LandSlope, Neighborhood, Condition1, Condition2, BldgType, HouseStyle, RoofStyle, RoofMatl, Exterior1st, Exterior2nd, MasVnrType, ExterQual, ExterCond, Foundation, BsmtQual, BsmtCond, BsmtExposure, BsmtFinType1, BsmtFinType2, Heating, HeatingQC, Electrical, KitchenQual, Functional, FireplaceQu, GarageType, GarageFinish, GarageQual, GarageCond, PavedDrive, PoolQC, Fence, MiscFeature, SaleType, SaleCondition"
   ]
  },
  {
   "cell_type": "markdown",
   "id": "e10b75e8-f0b0-4558-a85d-2f94dd4d1ba1",
   "metadata": {},
   "source": [
    "### Building model Pipeline"
   ]
  },
  {
   "cell_type": "code",
   "execution_count": 90,
   "id": "0048e7a1-0aec-4b91-b352-4dae0ebd13d8",
   "metadata": {},
   "outputs": [],
   "source": [
    "from sklearn.impute import SimpleImputer\n",
    "from sklearn.preprocessing import OneHotEncoder, MinMaxScaler, FunctionTransformer\n",
    "from sklearn.pipeline import Pipeline"
   ]
  },
  {
   "cell_type": "code",
   "execution_count": 91,
   "id": "cff3b9ce-895f-4c47-9d88-1260e5741cdc",
   "metadata": {},
   "outputs": [
    {
     "name": "stdout",
     "output_type": "stream",
     "text": [
      "['MSZoning', 'Street', 'Alley', 'LotShape', 'LandContour', 'Utilities', 'LotConfig', 'LandSlope', 'Neighborhood', 'Condition1', 'Condition2', 'BldgType', 'HouseStyle', 'RoofStyle', 'RoofMatl', 'Exterior1st', 'Exterior2nd', 'MasVnrType', 'ExterQual', 'ExterCond', 'Foundation', 'BsmtQual', 'BsmtCond', 'BsmtExposure', 'BsmtFinType1', 'BsmtFinType2', 'Heating', 'HeatingQC', 'CentralAir', 'Electrical', 'KitchenQual', 'Functional', 'FireplaceQu', 'GarageType', 'GarageFinish', 'GarageQual', 'GarageCond', 'PavedDrive', 'PoolQC', 'Fence', 'MiscFeature', 'SaleType', 'SaleCondition']\n"
     ]
    }
   ],
   "source": [
    "cat_cols = [cols for cols in x_train.columns if x_train[cols].dtype == 'object']\n",
    "print(cat_cols)"
   ]
  },
  {
   "cell_type": "code",
   "execution_count": 92,
   "id": "7cd7cc53-f4da-4862-b371-333cfcccc0cd",
   "metadata": {},
   "outputs": [],
   "source": [
    "# Creating a function to replace Nan with 0\n",
    "def fill_0(df):\n",
    "    df = df.fillna(0)\n",
    "    return df\n",
    "\n",
    "# Creating a function to replace 'None' with NaN\n",
    "def None_replace(df):\n",
    "    df = df.replace('None', np.nan)\n",
    "    return df"
   ]
  },
  {
   "cell_type": "code",
   "execution_count": 93,
   "id": "81b470b3-ea1f-464e-94d8-68ada4b981e3",
   "metadata": {},
   "outputs": [],
   "source": [
    "fill_zero = FunctionTransformer(fill_0)\n",
    "None_rep = FunctionTransformer(None_replace)"
   ]
  },
  {
   "cell_type": "code",
   "execution_count": 94,
   "id": "7a10c1bd-81f0-458b-b7d9-277c5683874c",
   "metadata": {},
   "outputs": [],
   "source": [
    "numeric_pipeline = Pipeline(steps=[\n",
    "    ('fill_0', fill_zero),\n",
    "    ('impute', SimpleImputer(strategy='mean')),\n",
    "    ('scale', MinMaxScaler())\n",
    "])\n",
    "\n",
    "categorical_pipeline = Pipeline(steps=[\n",
    "    ('None_replace', None_rep),\n",
    "    ('one-hot', OneHotEncoder(handle_unknown='ignore', sparse=False)),\n",
    "    ('impute', SimpleImputer(strategy='most_frequent'))\n",
    "])"
   ]
  },
  {
   "cell_type": "code",
   "execution_count": 95,
   "id": "0145c8a2-c5fb-4571-93d0-6e0ceff4a239",
   "metadata": {},
   "outputs": [],
   "source": [
    "numerical_features = x_train.select_dtypes(include='number').columns.tolist()"
   ]
  },
  {
   "cell_type": "code",
   "execution_count": 96,
   "id": "750e315f-9ed4-48af-be92-bf0336efaf9d",
   "metadata": {},
   "outputs": [],
   "source": [
    "categorical_features = x_train.select_dtypes(exclude='number').columns.tolist()"
   ]
  },
  {
   "cell_type": "code",
   "execution_count": 97,
   "id": "c52b5ed3-d4bf-4722-9e18-02a1b870f9ec",
   "metadata": {},
   "outputs": [],
   "source": [
    "from sklearn.compose import ColumnTransformer\n",
    "\n",
    "full_processor = ColumnTransformer(transformers=[\n",
    "    ('number', numeric_pipeline, numerical_features),\n",
    "    ('category', categorical_pipeline, categorical_features)\n",
    "])"
   ]
  },
  {
   "cell_type": "code",
   "execution_count": 98,
   "id": "9fbaaaa1-5ff3-43d6-ab82-bcf070c3fcc3",
   "metadata": {},
   "outputs": [
    {
     "data": {
      "text/plain": [
       "(146, 239)"
      ]
     },
     "execution_count": 98,
     "metadata": {},
     "output_type": "execute_result"
    }
   ],
   "source": [
    "full_processor.fit_transform(x_test).shape"
   ]
  },
  {
   "cell_type": "code",
   "execution_count": 99,
   "id": "f9819bff-14c5-4680-a410-e88d2877b5dd",
   "metadata": {},
   "outputs": [
    {
     "data": {
      "text/plain": [
       "(1314, 302)"
      ]
     },
     "execution_count": 99,
     "metadata": {},
     "output_type": "execute_result"
    }
   ],
   "source": [
    "full_processor.fit_transform(x_train).shape"
   ]
  },
  {
   "cell_type": "markdown",
   "id": "6ef25bfe-29f3-45f4-8e20-ddc572d0f732",
   "metadata": {},
   "source": [
    "## MODELS"
   ]
  },
  {
   "cell_type": "markdown",
   "id": "0ae9726a-bfa1-45ee-a9a2-2ded983220cf",
   "metadata": {},
   "source": [
    "#### Define a function to return root-mean squared error(RMSE)"
   ]
  },
  {
   "cell_type": "code",
   "execution_count": 100,
   "id": "87479b00-3055-4417-9f00-b0865c69ec99",
   "metadata": {},
   "outputs": [],
   "source": [
    "def rmse(y_true, y_pred):\n",
    "    return np.sqrt(mean_squared_error(y_true, y_pred))"
   ]
  },
  {
   "cell_type": "code",
   "execution_count": 101,
   "id": "dc68caf0-e580-457d-b91a-96399589040b",
   "metadata": {},
   "outputs": [],
   "source": [
    "from sklearn.metrics import mean_squared_error\n",
    "from sklearn.linear_model import Lasso\n",
    "from sklearn.metrics import mean_absolute_error\n",
    "\n",
    "lasso = Lasso(alpha=0.1)\n",
    "\n",
    "lasso_pipeline = Pipeline(steps=[\n",
    "    ('preprocess', full_processor),\n",
    "    ('model', lasso)\n",
    "])"
   ]
  },
  {
   "cell_type": "code",
   "execution_count": 102,
   "id": "8375b2ab-097e-42fb-ab99-95e72bffe7a6",
   "metadata": {},
   "outputs": [],
   "source": [
    "lasso_pipeline.fit(x_train, y_train);"
   ]
  },
  {
   "cell_type": "code",
   "execution_count": 103,
   "id": "a0e985db-a063-4af4-94e4-475ed74a2e76",
   "metadata": {},
   "outputs": [
    {
     "ename": "TypeError",
     "evalue": "ufunc 'isnan' not supported for the input types, and the inputs could not be safely coerced to any supported types according to the casting rule ''safe''",
     "output_type": "error",
     "traceback": [
      "\u001b[1;31m---------------------------------------------------------------------------\u001b[0m",
      "\u001b[1;31mTypeError\u001b[0m                                 Traceback (most recent call last)",
      "Input \u001b[1;32mIn [103]\u001b[0m, in \u001b[0;36m<cell line: 1>\u001b[1;34m()\u001b[0m\n\u001b[1;32m----> 1\u001b[0m preds \u001b[38;5;241m=\u001b[39m \u001b[43mlasso_pipeline\u001b[49m\u001b[38;5;241;43m.\u001b[39;49m\u001b[43mpredict\u001b[49m\u001b[43m(\u001b[49m\u001b[43mx_test\u001b[49m\u001b[43m)\u001b[49m\n\u001b[0;32m      2\u001b[0m rmse(y_test, preds)\n",
      "File \u001b[1;32m~\\anaconda3\\lib\\site-packages\\sklearn\\utils\\metaestimators.py:113\u001b[0m, in \u001b[0;36m_AvailableIfDescriptor.__get__.<locals>.<lambda>\u001b[1;34m(*args, **kwargs)\u001b[0m\n\u001b[0;32m    110\u001b[0m         \u001b[38;5;28;01mraise\u001b[39;00m attr_err\n\u001b[0;32m    112\u001b[0m     \u001b[38;5;66;03m# lambda, but not partial, allows help() to work with update_wrapper\u001b[39;00m\n\u001b[1;32m--> 113\u001b[0m     out \u001b[38;5;241m=\u001b[39m \u001b[38;5;28;01mlambda\u001b[39;00m \u001b[38;5;241m*\u001b[39margs, \u001b[38;5;241m*\u001b[39m\u001b[38;5;241m*\u001b[39mkwargs: \u001b[38;5;28mself\u001b[39m\u001b[38;5;241m.\u001b[39mfn(obj, \u001b[38;5;241m*\u001b[39margs, \u001b[38;5;241m*\u001b[39m\u001b[38;5;241m*\u001b[39mkwargs)  \u001b[38;5;66;03m# noqa\u001b[39;00m\n\u001b[0;32m    114\u001b[0m \u001b[38;5;28;01melse\u001b[39;00m:\n\u001b[0;32m    116\u001b[0m     \u001b[38;5;28;01mdef\u001b[39;00m \u001b[38;5;21mfn\u001b[39m(\u001b[38;5;241m*\u001b[39margs, \u001b[38;5;241m*\u001b[39m\u001b[38;5;241m*\u001b[39mkwargs):\n",
      "File \u001b[1;32m~\\anaconda3\\lib\\site-packages\\sklearn\\pipeline.py:469\u001b[0m, in \u001b[0;36mPipeline.predict\u001b[1;34m(self, X, **predict_params)\u001b[0m\n\u001b[0;32m    467\u001b[0m Xt \u001b[38;5;241m=\u001b[39m X\n\u001b[0;32m    468\u001b[0m \u001b[38;5;28;01mfor\u001b[39;00m _, name, transform \u001b[38;5;129;01min\u001b[39;00m \u001b[38;5;28mself\u001b[39m\u001b[38;5;241m.\u001b[39m_iter(with_final\u001b[38;5;241m=\u001b[39m\u001b[38;5;28;01mFalse\u001b[39;00m):\n\u001b[1;32m--> 469\u001b[0m     Xt \u001b[38;5;241m=\u001b[39m \u001b[43mtransform\u001b[49m\u001b[38;5;241;43m.\u001b[39;49m\u001b[43mtransform\u001b[49m\u001b[43m(\u001b[49m\u001b[43mXt\u001b[49m\u001b[43m)\u001b[49m\n\u001b[0;32m    470\u001b[0m \u001b[38;5;28;01mreturn\u001b[39;00m \u001b[38;5;28mself\u001b[39m\u001b[38;5;241m.\u001b[39msteps[\u001b[38;5;241m-\u001b[39m\u001b[38;5;241m1\u001b[39m][\u001b[38;5;241m1\u001b[39m]\u001b[38;5;241m.\u001b[39mpredict(Xt, \u001b[38;5;241m*\u001b[39m\u001b[38;5;241m*\u001b[39mpredict_params)\n",
      "File \u001b[1;32m~\\anaconda3\\lib\\site-packages\\sklearn\\compose\\_column_transformer.py:748\u001b[0m, in \u001b[0;36mColumnTransformer.transform\u001b[1;34m(self, X)\u001b[0m\n\u001b[0;32m    743\u001b[0m \u001b[38;5;28;01melse\u001b[39;00m:\n\u001b[0;32m    744\u001b[0m     \u001b[38;5;66;03m# ndarray was used for fitting or transforming, thus we only\u001b[39;00m\n\u001b[0;32m    745\u001b[0m     \u001b[38;5;66;03m# check that n_features_in_ is consistent\u001b[39;00m\n\u001b[0;32m    746\u001b[0m     \u001b[38;5;28mself\u001b[39m\u001b[38;5;241m.\u001b[39m_check_n_features(X, reset\u001b[38;5;241m=\u001b[39m\u001b[38;5;28;01mFalse\u001b[39;00m)\n\u001b[1;32m--> 748\u001b[0m Xs \u001b[38;5;241m=\u001b[39m \u001b[38;5;28;43mself\u001b[39;49m\u001b[38;5;241;43m.\u001b[39;49m\u001b[43m_fit_transform\u001b[49m\u001b[43m(\u001b[49m\n\u001b[0;32m    749\u001b[0m \u001b[43m    \u001b[49m\u001b[43mX\u001b[49m\u001b[43m,\u001b[49m\n\u001b[0;32m    750\u001b[0m \u001b[43m    \u001b[49m\u001b[38;5;28;43;01mNone\u001b[39;49;00m\u001b[43m,\u001b[49m\n\u001b[0;32m    751\u001b[0m \u001b[43m    \u001b[49m\u001b[43m_transform_one\u001b[49m\u001b[43m,\u001b[49m\n\u001b[0;32m    752\u001b[0m \u001b[43m    \u001b[49m\u001b[43mfitted\u001b[49m\u001b[38;5;241;43m=\u001b[39;49m\u001b[38;5;28;43;01mTrue\u001b[39;49;00m\u001b[43m,\u001b[49m\n\u001b[0;32m    753\u001b[0m \u001b[43m    \u001b[49m\u001b[43mcolumn_as_strings\u001b[49m\u001b[38;5;241;43m=\u001b[39;49m\u001b[43mfit_dataframe_and_transform_dataframe\u001b[49m\u001b[43m,\u001b[49m\n\u001b[0;32m    754\u001b[0m \u001b[43m\u001b[49m\u001b[43m)\u001b[49m\n\u001b[0;32m    755\u001b[0m \u001b[38;5;28mself\u001b[39m\u001b[38;5;241m.\u001b[39m_validate_output(Xs)\n\u001b[0;32m    757\u001b[0m \u001b[38;5;28;01mif\u001b[39;00m \u001b[38;5;129;01mnot\u001b[39;00m Xs:\n\u001b[0;32m    758\u001b[0m     \u001b[38;5;66;03m# All transformers are None\u001b[39;00m\n",
      "File \u001b[1;32m~\\anaconda3\\lib\\site-packages\\sklearn\\compose\\_column_transformer.py:606\u001b[0m, in \u001b[0;36mColumnTransformer._fit_transform\u001b[1;34m(self, X, y, func, fitted, column_as_strings)\u001b[0m\n\u001b[0;32m    600\u001b[0m transformers \u001b[38;5;241m=\u001b[39m \u001b[38;5;28mlist\u001b[39m(\n\u001b[0;32m    601\u001b[0m     \u001b[38;5;28mself\u001b[39m\u001b[38;5;241m.\u001b[39m_iter(\n\u001b[0;32m    602\u001b[0m         fitted\u001b[38;5;241m=\u001b[39mfitted, replace_strings\u001b[38;5;241m=\u001b[39m\u001b[38;5;28;01mTrue\u001b[39;00m, column_as_strings\u001b[38;5;241m=\u001b[39mcolumn_as_strings\n\u001b[0;32m    603\u001b[0m     )\n\u001b[0;32m    604\u001b[0m )\n\u001b[0;32m    605\u001b[0m \u001b[38;5;28;01mtry\u001b[39;00m:\n\u001b[1;32m--> 606\u001b[0m     \u001b[38;5;28;01mreturn\u001b[39;00m \u001b[43mParallel\u001b[49m\u001b[43m(\u001b[49m\u001b[43mn_jobs\u001b[49m\u001b[38;5;241;43m=\u001b[39;49m\u001b[38;5;28;43mself\u001b[39;49m\u001b[38;5;241;43m.\u001b[39;49m\u001b[43mn_jobs\u001b[49m\u001b[43m)\u001b[49m\u001b[43m(\u001b[49m\n\u001b[0;32m    607\u001b[0m \u001b[43m        \u001b[49m\u001b[43mdelayed\u001b[49m\u001b[43m(\u001b[49m\u001b[43mfunc\u001b[49m\u001b[43m)\u001b[49m\u001b[43m(\u001b[49m\n\u001b[0;32m    608\u001b[0m \u001b[43m            \u001b[49m\u001b[43mtransformer\u001b[49m\u001b[38;5;241;43m=\u001b[39;49m\u001b[43mclone\u001b[49m\u001b[43m(\u001b[49m\u001b[43mtrans\u001b[49m\u001b[43m)\u001b[49m\u001b[43m \u001b[49m\u001b[38;5;28;43;01mif\u001b[39;49;00m\u001b[43m \u001b[49m\u001b[38;5;129;43;01mnot\u001b[39;49;00m\u001b[43m \u001b[49m\u001b[43mfitted\u001b[49m\u001b[43m \u001b[49m\u001b[38;5;28;43;01melse\u001b[39;49;00m\u001b[43m \u001b[49m\u001b[43mtrans\u001b[49m\u001b[43m,\u001b[49m\n\u001b[0;32m    609\u001b[0m \u001b[43m            \u001b[49m\u001b[43mX\u001b[49m\u001b[38;5;241;43m=\u001b[39;49m\u001b[43m_safe_indexing\u001b[49m\u001b[43m(\u001b[49m\u001b[43mX\u001b[49m\u001b[43m,\u001b[49m\u001b[43m \u001b[49m\u001b[43mcolumn\u001b[49m\u001b[43m,\u001b[49m\u001b[43m \u001b[49m\u001b[43maxis\u001b[49m\u001b[38;5;241;43m=\u001b[39;49m\u001b[38;5;241;43m1\u001b[39;49m\u001b[43m)\u001b[49m\u001b[43m,\u001b[49m\n\u001b[0;32m    610\u001b[0m \u001b[43m            \u001b[49m\u001b[43my\u001b[49m\u001b[38;5;241;43m=\u001b[39;49m\u001b[43my\u001b[49m\u001b[43m,\u001b[49m\n\u001b[0;32m    611\u001b[0m \u001b[43m            \u001b[49m\u001b[43mweight\u001b[49m\u001b[38;5;241;43m=\u001b[39;49m\u001b[43mweight\u001b[49m\u001b[43m,\u001b[49m\n\u001b[0;32m    612\u001b[0m \u001b[43m            \u001b[49m\u001b[43mmessage_clsname\u001b[49m\u001b[38;5;241;43m=\u001b[39;49m\u001b[38;5;124;43m\"\u001b[39;49m\u001b[38;5;124;43mColumnTransformer\u001b[39;49m\u001b[38;5;124;43m\"\u001b[39;49m\u001b[43m,\u001b[49m\n\u001b[0;32m    613\u001b[0m \u001b[43m            \u001b[49m\u001b[43mmessage\u001b[49m\u001b[38;5;241;43m=\u001b[39;49m\u001b[38;5;28;43mself\u001b[39;49m\u001b[38;5;241;43m.\u001b[39;49m\u001b[43m_log_message\u001b[49m\u001b[43m(\u001b[49m\u001b[43mname\u001b[49m\u001b[43m,\u001b[49m\u001b[43m \u001b[49m\u001b[43midx\u001b[49m\u001b[43m,\u001b[49m\u001b[43m \u001b[49m\u001b[38;5;28;43mlen\u001b[39;49m\u001b[43m(\u001b[49m\u001b[43mtransformers\u001b[49m\u001b[43m)\u001b[49m\u001b[43m)\u001b[49m\u001b[43m,\u001b[49m\n\u001b[0;32m    614\u001b[0m \u001b[43m        \u001b[49m\u001b[43m)\u001b[49m\n\u001b[0;32m    615\u001b[0m \u001b[43m        \u001b[49m\u001b[38;5;28;43;01mfor\u001b[39;49;00m\u001b[43m \u001b[49m\u001b[43midx\u001b[49m\u001b[43m,\u001b[49m\u001b[43m \u001b[49m\u001b[43m(\u001b[49m\u001b[43mname\u001b[49m\u001b[43m,\u001b[49m\u001b[43m \u001b[49m\u001b[43mtrans\u001b[49m\u001b[43m,\u001b[49m\u001b[43m \u001b[49m\u001b[43mcolumn\u001b[49m\u001b[43m,\u001b[49m\u001b[43m \u001b[49m\u001b[43mweight\u001b[49m\u001b[43m)\u001b[49m\u001b[43m \u001b[49m\u001b[38;5;129;43;01min\u001b[39;49;00m\u001b[43m \u001b[49m\u001b[38;5;28;43menumerate\u001b[39;49m\u001b[43m(\u001b[49m\u001b[43mtransformers\u001b[49m\u001b[43m,\u001b[49m\u001b[43m \u001b[49m\u001b[38;5;241;43m1\u001b[39;49m\u001b[43m)\u001b[49m\n\u001b[0;32m    616\u001b[0m \u001b[43m    \u001b[49m\u001b[43m)\u001b[49m\n\u001b[0;32m    617\u001b[0m \u001b[38;5;28;01mexcept\u001b[39;00m \u001b[38;5;167;01mValueError\u001b[39;00m \u001b[38;5;28;01mas\u001b[39;00m e:\n\u001b[0;32m    618\u001b[0m     \u001b[38;5;28;01mif\u001b[39;00m \u001b[38;5;124m\"\u001b[39m\u001b[38;5;124mExpected 2D array, got 1D array instead\u001b[39m\u001b[38;5;124m\"\u001b[39m \u001b[38;5;129;01min\u001b[39;00m \u001b[38;5;28mstr\u001b[39m(e):\n",
      "File \u001b[1;32m~\\anaconda3\\lib\\site-packages\\joblib\\parallel.py:1046\u001b[0m, in \u001b[0;36mParallel.__call__\u001b[1;34m(self, iterable)\u001b[0m\n\u001b[0;32m   1043\u001b[0m \u001b[38;5;28;01mif\u001b[39;00m \u001b[38;5;28mself\u001b[39m\u001b[38;5;241m.\u001b[39mdispatch_one_batch(iterator):\n\u001b[0;32m   1044\u001b[0m     \u001b[38;5;28mself\u001b[39m\u001b[38;5;241m.\u001b[39m_iterating \u001b[38;5;241m=\u001b[39m \u001b[38;5;28mself\u001b[39m\u001b[38;5;241m.\u001b[39m_original_iterator \u001b[38;5;129;01mis\u001b[39;00m \u001b[38;5;129;01mnot\u001b[39;00m \u001b[38;5;28;01mNone\u001b[39;00m\n\u001b[1;32m-> 1046\u001b[0m \u001b[38;5;28;01mwhile\u001b[39;00m \u001b[38;5;28;43mself\u001b[39;49m\u001b[38;5;241;43m.\u001b[39;49m\u001b[43mdispatch_one_batch\u001b[49m\u001b[43m(\u001b[49m\u001b[43miterator\u001b[49m\u001b[43m)\u001b[49m:\n\u001b[0;32m   1047\u001b[0m     \u001b[38;5;28;01mpass\u001b[39;00m\n\u001b[0;32m   1049\u001b[0m \u001b[38;5;28;01mif\u001b[39;00m pre_dispatch \u001b[38;5;241m==\u001b[39m \u001b[38;5;124m\"\u001b[39m\u001b[38;5;124mall\u001b[39m\u001b[38;5;124m\"\u001b[39m \u001b[38;5;129;01mor\u001b[39;00m n_jobs \u001b[38;5;241m==\u001b[39m \u001b[38;5;241m1\u001b[39m:\n\u001b[0;32m   1050\u001b[0m     \u001b[38;5;66;03m# The iterable was consumed all at once by the above for loop.\u001b[39;00m\n\u001b[0;32m   1051\u001b[0m     \u001b[38;5;66;03m# No need to wait for async callbacks to trigger to\u001b[39;00m\n\u001b[0;32m   1052\u001b[0m     \u001b[38;5;66;03m# consumption.\u001b[39;00m\n",
      "File \u001b[1;32m~\\anaconda3\\lib\\site-packages\\joblib\\parallel.py:861\u001b[0m, in \u001b[0;36mParallel.dispatch_one_batch\u001b[1;34m(self, iterator)\u001b[0m\n\u001b[0;32m    859\u001b[0m     \u001b[38;5;28;01mreturn\u001b[39;00m \u001b[38;5;28;01mFalse\u001b[39;00m\n\u001b[0;32m    860\u001b[0m \u001b[38;5;28;01melse\u001b[39;00m:\n\u001b[1;32m--> 861\u001b[0m     \u001b[38;5;28;43mself\u001b[39;49m\u001b[38;5;241;43m.\u001b[39;49m\u001b[43m_dispatch\u001b[49m\u001b[43m(\u001b[49m\u001b[43mtasks\u001b[49m\u001b[43m)\u001b[49m\n\u001b[0;32m    862\u001b[0m     \u001b[38;5;28;01mreturn\u001b[39;00m \u001b[38;5;28;01mTrue\u001b[39;00m\n",
      "File \u001b[1;32m~\\anaconda3\\lib\\site-packages\\joblib\\parallel.py:779\u001b[0m, in \u001b[0;36mParallel._dispatch\u001b[1;34m(self, batch)\u001b[0m\n\u001b[0;32m    777\u001b[0m \u001b[38;5;28;01mwith\u001b[39;00m \u001b[38;5;28mself\u001b[39m\u001b[38;5;241m.\u001b[39m_lock:\n\u001b[0;32m    778\u001b[0m     job_idx \u001b[38;5;241m=\u001b[39m \u001b[38;5;28mlen\u001b[39m(\u001b[38;5;28mself\u001b[39m\u001b[38;5;241m.\u001b[39m_jobs)\n\u001b[1;32m--> 779\u001b[0m     job \u001b[38;5;241m=\u001b[39m \u001b[38;5;28;43mself\u001b[39;49m\u001b[38;5;241;43m.\u001b[39;49m\u001b[43m_backend\u001b[49m\u001b[38;5;241;43m.\u001b[39;49m\u001b[43mapply_async\u001b[49m\u001b[43m(\u001b[49m\u001b[43mbatch\u001b[49m\u001b[43m,\u001b[49m\u001b[43m \u001b[49m\u001b[43mcallback\u001b[49m\u001b[38;5;241;43m=\u001b[39;49m\u001b[43mcb\u001b[49m\u001b[43m)\u001b[49m\n\u001b[0;32m    780\u001b[0m     \u001b[38;5;66;03m# A job can complete so quickly than its callback is\u001b[39;00m\n\u001b[0;32m    781\u001b[0m     \u001b[38;5;66;03m# called before we get here, causing self._jobs to\u001b[39;00m\n\u001b[0;32m    782\u001b[0m     \u001b[38;5;66;03m# grow. To ensure correct results ordering, .insert is\u001b[39;00m\n\u001b[0;32m    783\u001b[0m     \u001b[38;5;66;03m# used (rather than .append) in the following line\u001b[39;00m\n\u001b[0;32m    784\u001b[0m     \u001b[38;5;28mself\u001b[39m\u001b[38;5;241m.\u001b[39m_jobs\u001b[38;5;241m.\u001b[39minsert(job_idx, job)\n",
      "File \u001b[1;32m~\\anaconda3\\lib\\site-packages\\joblib\\_parallel_backends.py:208\u001b[0m, in \u001b[0;36mSequentialBackend.apply_async\u001b[1;34m(self, func, callback)\u001b[0m\n\u001b[0;32m    206\u001b[0m \u001b[38;5;28;01mdef\u001b[39;00m \u001b[38;5;21mapply_async\u001b[39m(\u001b[38;5;28mself\u001b[39m, func, callback\u001b[38;5;241m=\u001b[39m\u001b[38;5;28;01mNone\u001b[39;00m):\n\u001b[0;32m    207\u001b[0m     \u001b[38;5;124;03m\"\"\"Schedule a func to be run\"\"\"\u001b[39;00m\n\u001b[1;32m--> 208\u001b[0m     result \u001b[38;5;241m=\u001b[39m \u001b[43mImmediateResult\u001b[49m\u001b[43m(\u001b[49m\u001b[43mfunc\u001b[49m\u001b[43m)\u001b[49m\n\u001b[0;32m    209\u001b[0m     \u001b[38;5;28;01mif\u001b[39;00m callback:\n\u001b[0;32m    210\u001b[0m         callback(result)\n",
      "File \u001b[1;32m~\\anaconda3\\lib\\site-packages\\joblib\\_parallel_backends.py:572\u001b[0m, in \u001b[0;36mImmediateResult.__init__\u001b[1;34m(self, batch)\u001b[0m\n\u001b[0;32m    569\u001b[0m \u001b[38;5;28;01mdef\u001b[39;00m \u001b[38;5;21m__init__\u001b[39m(\u001b[38;5;28mself\u001b[39m, batch):\n\u001b[0;32m    570\u001b[0m     \u001b[38;5;66;03m# Don't delay the application, to avoid keeping the input\u001b[39;00m\n\u001b[0;32m    571\u001b[0m     \u001b[38;5;66;03m# arguments in memory\u001b[39;00m\n\u001b[1;32m--> 572\u001b[0m     \u001b[38;5;28mself\u001b[39m\u001b[38;5;241m.\u001b[39mresults \u001b[38;5;241m=\u001b[39m \u001b[43mbatch\u001b[49m\u001b[43m(\u001b[49m\u001b[43m)\u001b[49m\n",
      "File \u001b[1;32m~\\anaconda3\\lib\\site-packages\\joblib\\parallel.py:262\u001b[0m, in \u001b[0;36mBatchedCalls.__call__\u001b[1;34m(self)\u001b[0m\n\u001b[0;32m    258\u001b[0m \u001b[38;5;28;01mdef\u001b[39;00m \u001b[38;5;21m__call__\u001b[39m(\u001b[38;5;28mself\u001b[39m):\n\u001b[0;32m    259\u001b[0m     \u001b[38;5;66;03m# Set the default nested backend to self._backend but do not set the\u001b[39;00m\n\u001b[0;32m    260\u001b[0m     \u001b[38;5;66;03m# change the default number of processes to -1\u001b[39;00m\n\u001b[0;32m    261\u001b[0m     \u001b[38;5;28;01mwith\u001b[39;00m parallel_backend(\u001b[38;5;28mself\u001b[39m\u001b[38;5;241m.\u001b[39m_backend, n_jobs\u001b[38;5;241m=\u001b[39m\u001b[38;5;28mself\u001b[39m\u001b[38;5;241m.\u001b[39m_n_jobs):\n\u001b[1;32m--> 262\u001b[0m         \u001b[38;5;28;01mreturn\u001b[39;00m [func(\u001b[38;5;241m*\u001b[39margs, \u001b[38;5;241m*\u001b[39m\u001b[38;5;241m*\u001b[39mkwargs)\n\u001b[0;32m    263\u001b[0m                 \u001b[38;5;28;01mfor\u001b[39;00m func, args, kwargs \u001b[38;5;129;01min\u001b[39;00m \u001b[38;5;28mself\u001b[39m\u001b[38;5;241m.\u001b[39mitems]\n",
      "File \u001b[1;32m~\\anaconda3\\lib\\site-packages\\joblib\\parallel.py:262\u001b[0m, in \u001b[0;36m<listcomp>\u001b[1;34m(.0)\u001b[0m\n\u001b[0;32m    258\u001b[0m \u001b[38;5;28;01mdef\u001b[39;00m \u001b[38;5;21m__call__\u001b[39m(\u001b[38;5;28mself\u001b[39m):\n\u001b[0;32m    259\u001b[0m     \u001b[38;5;66;03m# Set the default nested backend to self._backend but do not set the\u001b[39;00m\n\u001b[0;32m    260\u001b[0m     \u001b[38;5;66;03m# change the default number of processes to -1\u001b[39;00m\n\u001b[0;32m    261\u001b[0m     \u001b[38;5;28;01mwith\u001b[39;00m parallel_backend(\u001b[38;5;28mself\u001b[39m\u001b[38;5;241m.\u001b[39m_backend, n_jobs\u001b[38;5;241m=\u001b[39m\u001b[38;5;28mself\u001b[39m\u001b[38;5;241m.\u001b[39m_n_jobs):\n\u001b[1;32m--> 262\u001b[0m         \u001b[38;5;28;01mreturn\u001b[39;00m [func(\u001b[38;5;241m*\u001b[39margs, \u001b[38;5;241m*\u001b[39m\u001b[38;5;241m*\u001b[39mkwargs)\n\u001b[0;32m    263\u001b[0m                 \u001b[38;5;28;01mfor\u001b[39;00m func, args, kwargs \u001b[38;5;129;01min\u001b[39;00m \u001b[38;5;28mself\u001b[39m\u001b[38;5;241m.\u001b[39mitems]\n",
      "File \u001b[1;32m~\\anaconda3\\lib\\site-packages\\sklearn\\utils\\fixes.py:216\u001b[0m, in \u001b[0;36m_FuncWrapper.__call__\u001b[1;34m(self, *args, **kwargs)\u001b[0m\n\u001b[0;32m    214\u001b[0m \u001b[38;5;28;01mdef\u001b[39;00m \u001b[38;5;21m__call__\u001b[39m(\u001b[38;5;28mself\u001b[39m, \u001b[38;5;241m*\u001b[39margs, \u001b[38;5;241m*\u001b[39m\u001b[38;5;241m*\u001b[39mkwargs):\n\u001b[0;32m    215\u001b[0m     \u001b[38;5;28;01mwith\u001b[39;00m config_context(\u001b[38;5;241m*\u001b[39m\u001b[38;5;241m*\u001b[39m\u001b[38;5;28mself\u001b[39m\u001b[38;5;241m.\u001b[39mconfig):\n\u001b[1;32m--> 216\u001b[0m         \u001b[38;5;28;01mreturn\u001b[39;00m \u001b[38;5;28mself\u001b[39m\u001b[38;5;241m.\u001b[39mfunction(\u001b[38;5;241m*\u001b[39margs, \u001b[38;5;241m*\u001b[39m\u001b[38;5;241m*\u001b[39mkwargs)\n",
      "File \u001b[1;32m~\\anaconda3\\lib\\site-packages\\sklearn\\pipeline.py:876\u001b[0m, in \u001b[0;36m_transform_one\u001b[1;34m(transformer, X, y, weight, **fit_params)\u001b[0m\n\u001b[0;32m    875\u001b[0m \u001b[38;5;28;01mdef\u001b[39;00m \u001b[38;5;21m_transform_one\u001b[39m(transformer, X, y, weight, \u001b[38;5;241m*\u001b[39m\u001b[38;5;241m*\u001b[39mfit_params):\n\u001b[1;32m--> 876\u001b[0m     res \u001b[38;5;241m=\u001b[39m \u001b[43mtransformer\u001b[49m\u001b[38;5;241;43m.\u001b[39;49m\u001b[43mtransform\u001b[49m\u001b[43m(\u001b[49m\u001b[43mX\u001b[49m\u001b[43m)\u001b[49m\n\u001b[0;32m    877\u001b[0m     \u001b[38;5;66;03m# if we have a weight for this transformer, multiply output\u001b[39;00m\n\u001b[0;32m    878\u001b[0m     \u001b[38;5;28;01mif\u001b[39;00m weight \u001b[38;5;129;01mis\u001b[39;00m \u001b[38;5;28;01mNone\u001b[39;00m:\n",
      "File \u001b[1;32m~\\anaconda3\\lib\\site-packages\\sklearn\\utils\\metaestimators.py:113\u001b[0m, in \u001b[0;36m_AvailableIfDescriptor.__get__.<locals>.<lambda>\u001b[1;34m(*args, **kwargs)\u001b[0m\n\u001b[0;32m    110\u001b[0m         \u001b[38;5;28;01mraise\u001b[39;00m attr_err\n\u001b[0;32m    112\u001b[0m     \u001b[38;5;66;03m# lambda, but not partial, allows help() to work with update_wrapper\u001b[39;00m\n\u001b[1;32m--> 113\u001b[0m     out \u001b[38;5;241m=\u001b[39m \u001b[38;5;28;01mlambda\u001b[39;00m \u001b[38;5;241m*\u001b[39margs, \u001b[38;5;241m*\u001b[39m\u001b[38;5;241m*\u001b[39mkwargs: \u001b[38;5;28mself\u001b[39m\u001b[38;5;241m.\u001b[39mfn(obj, \u001b[38;5;241m*\u001b[39margs, \u001b[38;5;241m*\u001b[39m\u001b[38;5;241m*\u001b[39mkwargs)  \u001b[38;5;66;03m# noqa\u001b[39;00m\n\u001b[0;32m    114\u001b[0m \u001b[38;5;28;01melse\u001b[39;00m:\n\u001b[0;32m    116\u001b[0m     \u001b[38;5;28;01mdef\u001b[39;00m \u001b[38;5;21mfn\u001b[39m(\u001b[38;5;241m*\u001b[39margs, \u001b[38;5;241m*\u001b[39m\u001b[38;5;241m*\u001b[39mkwargs):\n",
      "File \u001b[1;32m~\\anaconda3\\lib\\site-packages\\sklearn\\pipeline.py:647\u001b[0m, in \u001b[0;36mPipeline.transform\u001b[1;34m(self, X)\u001b[0m\n\u001b[0;32m    645\u001b[0m Xt \u001b[38;5;241m=\u001b[39m X\n\u001b[0;32m    646\u001b[0m \u001b[38;5;28;01mfor\u001b[39;00m _, _, transform \u001b[38;5;129;01min\u001b[39;00m \u001b[38;5;28mself\u001b[39m\u001b[38;5;241m.\u001b[39m_iter():\n\u001b[1;32m--> 647\u001b[0m     Xt \u001b[38;5;241m=\u001b[39m \u001b[43mtransform\u001b[49m\u001b[38;5;241;43m.\u001b[39;49m\u001b[43mtransform\u001b[49m\u001b[43m(\u001b[49m\u001b[43mXt\u001b[49m\u001b[43m)\u001b[49m\n\u001b[0;32m    648\u001b[0m \u001b[38;5;28;01mreturn\u001b[39;00m Xt\n",
      "File \u001b[1;32m~\\anaconda3\\lib\\site-packages\\sklearn\\preprocessing\\_encoders.py:509\u001b[0m, in \u001b[0;36mOneHotEncoder.transform\u001b[1;34m(self, X)\u001b[0m\n\u001b[0;32m    507\u001b[0m \u001b[38;5;66;03m# validation of X happens in _check_X called by _transform\u001b[39;00m\n\u001b[0;32m    508\u001b[0m warn_on_unknown \u001b[38;5;241m=\u001b[39m \u001b[38;5;28mself\u001b[39m\u001b[38;5;241m.\u001b[39mhandle_unknown \u001b[38;5;241m==\u001b[39m \u001b[38;5;124m\"\u001b[39m\u001b[38;5;124mignore\u001b[39m\u001b[38;5;124m\"\u001b[39m \u001b[38;5;129;01mand\u001b[39;00m \u001b[38;5;28mself\u001b[39m\u001b[38;5;241m.\u001b[39mdrop \u001b[38;5;129;01mis\u001b[39;00m \u001b[38;5;129;01mnot\u001b[39;00m \u001b[38;5;28;01mNone\u001b[39;00m\n\u001b[1;32m--> 509\u001b[0m X_int, X_mask \u001b[38;5;241m=\u001b[39m \u001b[38;5;28;43mself\u001b[39;49m\u001b[38;5;241;43m.\u001b[39;49m\u001b[43m_transform\u001b[49m\u001b[43m(\u001b[49m\n\u001b[0;32m    510\u001b[0m \u001b[43m    \u001b[49m\u001b[43mX\u001b[49m\u001b[43m,\u001b[49m\n\u001b[0;32m    511\u001b[0m \u001b[43m    \u001b[49m\u001b[43mhandle_unknown\u001b[49m\u001b[38;5;241;43m=\u001b[39;49m\u001b[38;5;28;43mself\u001b[39;49m\u001b[38;5;241;43m.\u001b[39;49m\u001b[43mhandle_unknown\u001b[49m\u001b[43m,\u001b[49m\n\u001b[0;32m    512\u001b[0m \u001b[43m    \u001b[49m\u001b[43mforce_all_finite\u001b[49m\u001b[38;5;241;43m=\u001b[39;49m\u001b[38;5;124;43m\"\u001b[39;49m\u001b[38;5;124;43mallow-nan\u001b[39;49m\u001b[38;5;124;43m\"\u001b[39;49m\u001b[43m,\u001b[49m\n\u001b[0;32m    513\u001b[0m \u001b[43m    \u001b[49m\u001b[43mwarn_on_unknown\u001b[49m\u001b[38;5;241;43m=\u001b[39;49m\u001b[43mwarn_on_unknown\u001b[49m\u001b[43m,\u001b[49m\n\u001b[0;32m    514\u001b[0m \u001b[43m\u001b[49m\u001b[43m)\u001b[49m\n\u001b[0;32m    516\u001b[0m n_samples, n_features \u001b[38;5;241m=\u001b[39m X_int\u001b[38;5;241m.\u001b[39mshape\n\u001b[0;32m    518\u001b[0m \u001b[38;5;28;01mif\u001b[39;00m \u001b[38;5;28mself\u001b[39m\u001b[38;5;241m.\u001b[39mdrop_idx_ \u001b[38;5;129;01mis\u001b[39;00m \u001b[38;5;129;01mnot\u001b[39;00m \u001b[38;5;28;01mNone\u001b[39;00m:\n",
      "File \u001b[1;32m~\\anaconda3\\lib\\site-packages\\sklearn\\preprocessing\\_encoders.py:134\u001b[0m, in \u001b[0;36m_BaseEncoder._transform\u001b[1;34m(self, X, handle_unknown, force_all_finite, warn_on_unknown)\u001b[0m\n\u001b[0;32m    132\u001b[0m \u001b[38;5;28;01mfor\u001b[39;00m i \u001b[38;5;129;01min\u001b[39;00m \u001b[38;5;28mrange\u001b[39m(n_features):\n\u001b[0;32m    133\u001b[0m     Xi \u001b[38;5;241m=\u001b[39m X_list[i]\n\u001b[1;32m--> 134\u001b[0m     diff, valid_mask \u001b[38;5;241m=\u001b[39m \u001b[43m_check_unknown\u001b[49m\u001b[43m(\u001b[49m\u001b[43mXi\u001b[49m\u001b[43m,\u001b[49m\u001b[43m \u001b[49m\u001b[38;5;28;43mself\u001b[39;49m\u001b[38;5;241;43m.\u001b[39;49m\u001b[43mcategories_\u001b[49m\u001b[43m[\u001b[49m\u001b[43mi\u001b[49m\u001b[43m]\u001b[49m\u001b[43m,\u001b[49m\u001b[43m \u001b[49m\u001b[43mreturn_mask\u001b[49m\u001b[38;5;241;43m=\u001b[39;49m\u001b[38;5;28;43;01mTrue\u001b[39;49;00m\u001b[43m)\u001b[49m\n\u001b[0;32m    136\u001b[0m     \u001b[38;5;28;01mif\u001b[39;00m \u001b[38;5;129;01mnot\u001b[39;00m np\u001b[38;5;241m.\u001b[39mall(valid_mask):\n\u001b[0;32m    137\u001b[0m         \u001b[38;5;28;01mif\u001b[39;00m handle_unknown \u001b[38;5;241m==\u001b[39m \u001b[38;5;124m\"\u001b[39m\u001b[38;5;124merror\u001b[39m\u001b[38;5;124m\"\u001b[39m:\n",
      "File \u001b[1;32m~\\anaconda3\\lib\\site-packages\\sklearn\\utils\\_encode.py:261\u001b[0m, in \u001b[0;36m_check_unknown\u001b[1;34m(values, known_values, return_mask)\u001b[0m\n\u001b[0;32m    258\u001b[0m         valid_mask \u001b[38;5;241m=\u001b[39m np\u001b[38;5;241m.\u001b[39mones(\u001b[38;5;28mlen\u001b[39m(values), dtype\u001b[38;5;241m=\u001b[39m\u001b[38;5;28mbool\u001b[39m)\n\u001b[0;32m    260\u001b[0m \u001b[38;5;66;03m# check for nans in the known_values\u001b[39;00m\n\u001b[1;32m--> 261\u001b[0m \u001b[38;5;28;01mif\u001b[39;00m \u001b[43mnp\u001b[49m\u001b[38;5;241;43m.\u001b[39;49m\u001b[43misnan\u001b[49m\u001b[43m(\u001b[49m\u001b[43mknown_values\u001b[49m\u001b[43m)\u001b[49m\u001b[38;5;241m.\u001b[39many():\n\u001b[0;32m    262\u001b[0m     diff_is_nan \u001b[38;5;241m=\u001b[39m np\u001b[38;5;241m.\u001b[39misnan(diff)\n\u001b[0;32m    263\u001b[0m     \u001b[38;5;28;01mif\u001b[39;00m diff_is_nan\u001b[38;5;241m.\u001b[39many():\n\u001b[0;32m    264\u001b[0m         \u001b[38;5;66;03m# removes nan from valid_mask\u001b[39;00m\n",
      "\u001b[1;31mTypeError\u001b[0m: ufunc 'isnan' not supported for the input types, and the inputs could not be safely coerced to any supported types according to the casting rule ''safe''"
     ]
    }
   ],
   "source": [
    "preds = lasso_pipeline.predict(x_test)\n",
    "rmse(y_test, preds)"
   ]
  },
  {
   "cell_type": "markdown",
   "id": "5ebf6f72-ed62-46ca-831d-e3411c84881d",
   "metadata": {
    "slideshow": {
     "slide_type": "subslide"
    }
   },
   "source": [
    "##### MasVnrType : Convert None to NaN then one hot"
   ]
  },
  {
   "cell_type": "markdown",
   "id": "d7110f11-9d5c-4bf1-84ff-2fb4bad106a4",
   "metadata": {},
   "source": [
    "#### Importing Libraries"
   ]
  },
  {
   "cell_type": "code",
   "execution_count": null,
   "id": "c086b13f-ae00-4ff9-a1dd-01552a2b9809",
   "metadata": {},
   "outputs": [],
   "source": [
    "from sklearn.linear_model import LinearRegression, ElasticNet, LassoCV, RidgeCV, ElasticNetCV"
   ]
  },
  {
   "cell_type": "markdown",
   "id": "06bf26a7-61ab-45b5-8b1e-2ad9a17698ef",
   "metadata": {},
   "source": [
    "### Linear Regression"
   ]
  },
  {
   "cell_type": "code",
   "execution_count": 55,
   "id": "019f68f9-245b-4a8f-8182-eaa3b6299ef2",
   "metadata": {},
   "outputs": [
    {
     "name": "stdout",
     "output_type": "stream",
     "text": [
      "RMSE: 154776220866059.88\n"
     ]
    }
   ],
   "source": [
    "lin_model = LinearRegression()\n",
    "\n",
    "lin_pipeline = Pipeline(steps=[\n",
    "    ('preprocess', full_processor),\n",
    "    ('model', lin_model)\n",
    "])\n",
    "\n",
    "lin_pipeline.fit(x_train, y_train);\n",
    "\n",
    "lin_pred= lin_pipeline.predict(x_test)\n",
    "lin_rmse = rmse(y_test, lin_pred)\n",
    "print('RMSE:', lin_rmse)"
   ]
  },
  {
   "cell_type": "markdown",
   "id": "54e8ec28-c8b7-4d1a-9f41-be952dc8e802",
   "metadata": {},
   "source": [
    "### Lasso Regression"
   ]
  },
  {
   "cell_type": "code",
   "execution_count": 54,
   "id": "1c1b6d3e-94b7-48ed-ae6f-ed5db1d2905c",
   "metadata": {},
   "outputs": [
    {
     "name": "stdout",
     "output_type": "stream",
     "text": [
      "alpha: 140.0\n",
      "RMSE: 25888.0059307351\n"
     ]
    }
   ],
   "source": [
    "alpha1 = [0.005, 0.05, 0.1, 0.3, 1, 5, 20, 50, 80, 100, 120, 140]\n",
    "\n",
    "lassorCV = LassoCV(alphas=alpha1, max_iter= 5e4,cv=5)\n",
    "\n",
    "lassoCV_pipeline = Pipeline(steps=[\n",
    "    ('preprocess', full_processor),\n",
    "    ('model', lassorCV)\n",
    "])\n",
    "\n",
    "lassoCV_pipeline.fit(x_train, y_train)\n",
    "\n",
    "lassorCV_rmse = rmse(y_test, lassoCV_pipeline.predict(x_test))\n",
    "print('alpha:',lassorCV.alpha_)\n",
    "print('RMSE:',lassorCV_rmse)"
   ]
  },
  {
   "cell_type": "markdown",
   "id": "518380a8-4cb1-4995-a079-0ee61fade36e",
   "metadata": {},
   "source": [
    "### Ridge Regression"
   ]
  },
  {
   "cell_type": "code",
   "execution_count": 58,
   "id": "77c8fa93-afd7-4843-9cb5-07c67fd71d34",
   "metadata": {},
   "outputs": [
    {
     "name": "stdout",
     "output_type": "stream",
     "text": [
      "alpha: 10.0\n",
      "RMSE: 27690.594524212545\n"
     ]
    }
   ],
   "source": [
    "alpha2 = [0.005, 0.05, 0.1, 0.3, 1, 3, 5, 10, 15, 30, 50, 80, 100]\n",
    "\n",
    "ridgeCV = RidgeCV(alphas=alpha2, cv=5)\n",
    "\n",
    "ridgeCV_pipeline = Pipeline(steps=[\n",
    "    ('preprocess', full_processor),\n",
    "    ('model', ridgeCV)\n",
    "])\n",
    "\n",
    "ridgeCV_pipeline.fit(x_train, y_train)\n",
    "\n",
    "ridgeCV_rmse = rmse(y_test, ridgeCV_pipeline.predict(x_test))\n",
    "print('alpha:',ridgeCV.alpha_)\n",
    "print('RMSE:',ridgeCV_rmse)"
   ]
  },
  {
   "cell_type": "markdown",
   "id": "6a89df58-eef8-4c78-a779-b6944d813668",
   "metadata": {},
   "source": [
    "### ElasticNet Regression"
   ]
  },
  {
   "cell_type": "code",
   "execution_count": 60,
   "id": "d7546b8d-3c89-49d7-a8f1-67c3ce9106cd",
   "metadata": {},
   "outputs": [
    {
     "name": "stdout",
     "output_type": "stream",
     "text": [
      "alpha: 0.05\n",
      "l1 ratio: 0.7000000000000001\n",
      "RMSE: 28023.257796604226\n"
     ]
    }
   ],
   "source": [
    "l1_ratios = np.linspace(0.1, 0.9, 9)\n",
    "\n",
    "elasticNetCV = ElasticNetCV(alphas=alpha1, l1_ratio=l1_ratios,\n",
    "                            max_iter= 1e4,cv=5)\n",
    "\n",
    "elasticNetCV_pipeline = Pipeline(steps=[\n",
    "    ('preprocess', full_processor),\n",
    "    ('model', elasticNetCV)\n",
    "])\n",
    "\n",
    "\n",
    "elasticNetCV_pipeline.fit(x_train, y_train)\n",
    "\n",
    "elasticNetCV_rmse = rmse(y_test, elasticNetCV_pipeline.predict(x_test))\n",
    "print('alpha:',elasticNetCV.alpha_)\n",
    "print('l1 ratio:', elasticNetCV.l1_ratio_)\n",
    "print('RMSE:',elasticNetCV_rmse)"
   ]
  },
  {
   "cell_type": "markdown",
   "id": "76665891-1441-4bd7-9b70-30242256c9e8",
   "metadata": {},
   "source": [
    "### LightGBM Regression"
   ]
  },
  {
   "cell_type": "code",
   "execution_count": 61,
   "id": "037e1cad-90c5-4d71-9993-8f53cd46eb5c",
   "metadata": {},
   "outputs": [
    {
     "name": "stdout",
     "output_type": "stream",
     "text": [
      "RMSE: 26068.192484160576\n"
     ]
    }
   ],
   "source": [
    "from lightgbm import LGBMRegressor\n",
    "\n",
    "lgbmRegressor = LGBMRegressor()\n",
    "\n",
    "lgbmRegressor_pipeline = Pipeline(steps=[\n",
    "    ('preprocess', full_processor),\n",
    "    ('model', lgbmRegressor)\n",
    "])\n",
    "\n",
    "lgbmRegressor_pipeline.fit(x_train, y_train)\n",
    "lgbm_rmse = rmse(y_test, lgbmRegressor_pipeline.predict(x_test))\n",
    "print('RMSE:', lgbm_rmse)"
   ]
  },
  {
   "cell_type": "markdown",
   "id": "daaea442-2309-4391-af0b-2db1a9e63f34",
   "metadata": {},
   "source": [
    "### Gradient Boosting Regression"
   ]
  },
  {
   "cell_type": "code",
   "execution_count": 64,
   "id": "26910353-0899-41d1-95ec-5fc7393e6542",
   "metadata": {},
   "outputs": [
    {
     "name": "stdout",
     "output_type": "stream",
     "text": [
      "RMSE: 24561.230735793735\n",
      "MAE: 15316.351670177088\n"
     ]
    }
   ],
   "source": [
    "from sklearn.ensemble import GradientBoostingRegressor\n",
    "\n",
    "gbRegressor = GradientBoostingRegressor()\n",
    "\n",
    "gbRegressor_pipeline = Pipeline(steps=[\n",
    "    ('preprocess', full_processor),\n",
    "    ('model', gbRegressor)\n",
    "])\n",
    "\n",
    "\n",
    "gbRegressor_pipeline.fit(x_train, y_train)\n",
    "gb_rmse = rmse(y_test, gbRegressor_pipeline.predict(x_test))\n",
    "gb_mae = mean_absolute_error(y_test, gbRegressor_pipeline.predict(x_test))\n",
    "print('RMSE:', gb_rmse)\n",
    "print('MAE:',  gb_mae)"
   ]
  },
  {
   "cell_type": "markdown",
   "id": "41b9f9fd-a2c3-4867-a966-330013220c59",
   "metadata": {},
   "source": [
    "### CatBoost Regression"
   ]
  },
  {
   "cell_type": "code",
   "execution_count": 67,
   "id": "6c14c10a-e4c3-4696-b03a-7b4c80df6eea",
   "metadata": {},
   "outputs": [
    {
     "name": "stdout",
     "output_type": "stream",
     "text": [
      "RMSE: 22452.727347878368\n",
      "MAE: 13617.268869016669\n"
     ]
    }
   ],
   "source": [
    "from catboost import CatBoostRegressor\n",
    "\n",
    "cbRegressor = CatBoostRegressor(silent=True)\n",
    "\n",
    "cbRegressor_pipeline = Pipeline(steps=[\n",
    "    ('preprocess', full_processor),\n",
    "    ('model', cbRegressor)\n",
    "])\n",
    "\n",
    "cbRegressor_pipeline.fit(x_train, y_train)\n",
    "cb_rmse = rmse(y_test, cbRegressor_pipeline.predict(x_test))\n",
    "cb_mae = mean_absolute_error(y_test, cbRegressor_pipeline.predict(x_test))\n",
    "\n",
    "print('RMSE:', cb_rmse)\n",
    "print('MAE:',  cb_mae)"
   ]
  },
  {
   "cell_type": "markdown",
   "id": "1b9a8ca6-05aa-40aa-8b3d-251267bb421f",
   "metadata": {},
   "source": [
    "### Bayesian Ridge"
   ]
  },
  {
   "cell_type": "code",
   "execution_count": 70,
   "id": "b38e9f58-8e2c-4a49-883e-765315a8c958",
   "metadata": {},
   "outputs": [
    {
     "name": "stdout",
     "output_type": "stream",
     "text": [
      "RMSE: 27408.51173455787\n",
      "MAE: 18072.28804036519\n"
     ]
    }
   ],
   "source": [
    "from sklearn.linear_model import BayesianRidge\n",
    "\n",
    "brRegressor = BayesianRidge()\n",
    "\n",
    "brRegressor_pipeline = Pipeline(steps=[\n",
    "    ('preprocess', full_processor),\n",
    "    ('model', brRegressor)\n",
    "])\n",
    "\n",
    "brRegressor_pipeline.fit(x_train, y_train)\n",
    "br_rmse = rmse(y_test, brRegressor_pipeline.predict(x_test))\n",
    "br_mae = mean_absolute_error(y_test, brRegressor_pipeline.predict(x_test))\n",
    "print('RMSE:', br_rmse)\n",
    "print('MAE:',  br_mae)"
   ]
  },
  {
   "cell_type": "markdown",
   "id": "3e2e0745-2056-4a07-af4e-68bfa9866421",
   "metadata": {},
   "source": [
    "### Random Forest Regression"
   ]
  },
  {
   "cell_type": "code",
   "execution_count": 72,
   "id": "c020163d-f660-4bf9-99f7-2e9f6a45dae9",
   "metadata": {},
   "outputs": [
    {
     "name": "stdout",
     "output_type": "stream",
     "text": [
      "RMSE: 26056.739229195056\n",
      "MAE: 16465.19598173516\n"
     ]
    }
   ],
   "source": [
    "from sklearn.ensemble import RandomForestRegressor\n",
    "\n",
    "rfRegressor = RandomForestRegressor(random_state=19)\n",
    "\n",
    "rfRegressor_pipeline = Pipeline(steps=[\n",
    "    ('preprocess', full_processor),\n",
    "    ('model', rfRegressor)\n",
    "])\n",
    "\n",
    "rfRegressor_pipeline.fit(x_train, y_train)\n",
    "rf_rmse = rmse(y_test, rfRegressor_pipeline.predict(x_test))\n",
    "rf_mae = mean_absolute_error(y_test, rfRegressor_pipeline.predict(x_test))\n",
    "print('RMSE:', rf_rmse)\n",
    "print('MAE:',  rf_mae)"
   ]
  },
  {
   "cell_type": "markdown",
   "id": "91bd7883-7777-4b3d-a7f3-ce8768d262b6",
   "metadata": {},
   "source": [
    "### Extra Trees Regressor"
   ]
  },
  {
   "cell_type": "code",
   "execution_count": 73,
   "id": "f4d04b32-c330-4c4a-95c4-db1e3758d9f3",
   "metadata": {},
   "outputs": [
    {
     "name": "stdout",
     "output_type": "stream",
     "text": [
      "RMSE: 27064.93674038491\n",
      "MAE: 16903.713515981734\n"
     ]
    }
   ],
   "source": [
    "from sklearn.ensemble import ExtraTreesRegressor\n",
    "\n",
    "extRegressor = ExtraTreesRegressor(random_state=19)\n",
    "\n",
    "extRegressor_pipeline = Pipeline(steps=[\n",
    "    ('preprocess', full_processor),\n",
    "    ('model', extRegressor)\n",
    "])\n",
    "\n",
    "extRegressor_pipeline.fit(x_train, y_train)\n",
    "ext_rmse = rmse(y_test, extRegressor_pipeline.predict(x_test))\n",
    "ext_mae = mean_absolute_error(y_test, extRegressor_pipeline.predict(x_test))\n",
    "print('RMSE:', ext_rmse)\n",
    "print('MAE:',  ext_mae)"
   ]
  },
  {
   "cell_type": "markdown",
   "id": "8868d5c6-59d0-455a-883a-1026c6fe2d46",
   "metadata": {},
   "source": [
    "<a id='Results'></a>\n",
    "## Results/Finding"
   ]
  },
  {
   "cell_type": "markdown",
   "id": "cee27aee-20bd-4e3d-a0e3-0b339163e410",
   "metadata": {},
   "source": [
    "### Comparing the RMSE calculation from all models"
   ]
  },
  {
   "cell_type": "code",
   "execution_count": 74,
   "id": "f3760a15-5e9f-4e58-82ce-e5e3864eb79e",
   "metadata": {},
   "outputs": [
    {
     "data": {
      "text/html": [
       "<div>\n",
       "<style scoped>\n",
       "    .dataframe tbody tr th:only-of-type {\n",
       "        vertical-align: middle;\n",
       "    }\n",
       "\n",
       "    .dataframe tbody tr th {\n",
       "        vertical-align: top;\n",
       "    }\n",
       "\n",
       "    .dataframe thead th {\n",
       "        text-align: right;\n",
       "    }\n",
       "</style>\n",
       "<table border=\"1\" class=\"dataframe\">\n",
       "  <thead>\n",
       "    <tr style=\"text-align: right;\">\n",
       "      <th></th>\n",
       "      <th>RMSE</th>\n",
       "    </tr>\n",
       "  </thead>\n",
       "  <tbody>\n",
       "    <tr>\n",
       "      <th>CatBoost</th>\n",
       "      <td>2.245273e+04</td>\n",
       "    </tr>\n",
       "    <tr>\n",
       "      <th>Gradient Boosting</th>\n",
       "      <td>2.456123e+04</td>\n",
       "    </tr>\n",
       "    <tr>\n",
       "      <th>Lasso</th>\n",
       "      <td>2.588801e+04</td>\n",
       "    </tr>\n",
       "    <tr>\n",
       "      <th>Random Forest</th>\n",
       "      <td>2.605674e+04</td>\n",
       "    </tr>\n",
       "    <tr>\n",
       "      <th>LightGBM</th>\n",
       "      <td>2.606819e+04</td>\n",
       "    </tr>\n",
       "    <tr>\n",
       "      <th>Extra Trees</th>\n",
       "      <td>2.706494e+04</td>\n",
       "    </tr>\n",
       "    <tr>\n",
       "      <th>Bayesian Ridge</th>\n",
       "      <td>2.740851e+04</td>\n",
       "    </tr>\n",
       "    <tr>\n",
       "      <th>Ridge</th>\n",
       "      <td>2.769059e+04</td>\n",
       "    </tr>\n",
       "    <tr>\n",
       "      <th>ElasticNet</th>\n",
       "      <td>2.802326e+04</td>\n",
       "    </tr>\n",
       "    <tr>\n",
       "      <th>Linear</th>\n",
       "      <td>1.547762e+14</td>\n",
       "    </tr>\n",
       "  </tbody>\n",
       "</table>\n",
       "</div>"
      ],
      "text/plain": [
       "                           RMSE\n",
       "CatBoost           2.245273e+04\n",
       "Gradient Boosting  2.456123e+04\n",
       "Lasso              2.588801e+04\n",
       "Random Forest      2.605674e+04\n",
       "LightGBM           2.606819e+04\n",
       "Extra Trees        2.706494e+04\n",
       "Bayesian Ridge     2.740851e+04\n",
       "Ridge              2.769059e+04\n",
       "ElasticNet         2.802326e+04\n",
       "Linear             1.547762e+14"
      ]
     },
     "execution_count": 74,
     "metadata": {},
     "output_type": "execute_result"
    }
   ],
   "source": [
    "rmse_val =  [lin_rmse, lassorCV_rmse, ridgeCV_rmse, elasticNetCV_rmse, lgbm_rmse, \n",
    "             gb_rmse, cb_rmse, br_rmse, rf_rmse, ext_rmse]\n",
    "labels = ['Linear', 'Lasso', 'Ridge', 'ElasticNet', 'LightGBM', 'Gradient Boosting', \n",
    "         'CatBoost', 'Bayesian Ridge', 'Random Forest', 'Extra Trees']\n",
    "\n",
    "rmse_df = pd.Series(rmse_val, index=labels).to_frame()\n",
    "rmse_df.rename(columns={0 : 'RMSE'}, inplace=True)\n",
    "rmse_df.sort_values(by='RMSE')"
   ]
  },
  {
   "cell_type": "markdown",
   "id": "001b1592-d651-403e-90cb-6ca63793988c",
   "metadata": {},
   "source": [
    "**RESULT:** The best model for is the model with the lowest RMSE score which is the **CatBoost regression model**."
   ]
  },
  {
   "cell_type": "markdown",
   "id": "1ee5254a-d04a-4721-9998-0edb725ffecd",
   "metadata": {
    "tags": []
   },
   "source": [
    "<a id='sumbit'></a>\n",
    "## Submission\n"
   ]
  },
  {
   "cell_type": "code",
   "execution_count": 80,
   "id": "37689f32-4f74-436f-8137-8c0d14f52fd7",
   "metadata": {},
   "outputs": [],
   "source": [
    "df_test = pd.read_csv('test.csv')"
   ]
  },
  {
   "cell_type": "code",
   "execution_count": 81,
   "id": "2c644c2f-00b1-4678-8d85-263d0c8096a8",
   "metadata": {},
   "outputs": [],
   "source": [
    "X_test = df_test.drop('Id', axis=1)"
   ]
  },
  {
   "cell_type": "code",
   "execution_count": 82,
   "id": "069d18f4-872f-4e44-bb09-31beb26b26c9",
   "metadata": {},
   "outputs": [
    {
     "data": {
      "text/html": [
       "<div>\n",
       "<style scoped>\n",
       "    .dataframe tbody tr th:only-of-type {\n",
       "        vertical-align: middle;\n",
       "    }\n",
       "\n",
       "    .dataframe tbody tr th {\n",
       "        vertical-align: top;\n",
       "    }\n",
       "\n",
       "    .dataframe thead th {\n",
       "        text-align: right;\n",
       "    }\n",
       "</style>\n",
       "<table border=\"1\" class=\"dataframe\">\n",
       "  <thead>\n",
       "    <tr style=\"text-align: right;\">\n",
       "      <th></th>\n",
       "      <th>Id</th>\n",
       "      <th>SalePrice</th>\n",
       "    </tr>\n",
       "  </thead>\n",
       "  <tbody>\n",
       "    <tr>\n",
       "      <th>0</th>\n",
       "      <td>1461</td>\n",
       "      <td>124201.047957</td>\n",
       "    </tr>\n",
       "    <tr>\n",
       "      <th>1</th>\n",
       "      <td>1462</td>\n",
       "      <td>172884.622848</td>\n",
       "    </tr>\n",
       "    <tr>\n",
       "      <th>2</th>\n",
       "      <td>1463</td>\n",
       "      <td>189937.301476</td>\n",
       "    </tr>\n",
       "    <tr>\n",
       "      <th>3</th>\n",
       "      <td>1464</td>\n",
       "      <td>190720.089689</td>\n",
       "    </tr>\n",
       "    <tr>\n",
       "      <th>4</th>\n",
       "      <td>1465</td>\n",
       "      <td>188242.227827</td>\n",
       "    </tr>\n",
       "    <tr>\n",
       "      <th>...</th>\n",
       "      <td>...</td>\n",
       "      <td>...</td>\n",
       "    </tr>\n",
       "    <tr>\n",
       "      <th>1454</th>\n",
       "      <td>2915</td>\n",
       "      <td>80899.859363</td>\n",
       "    </tr>\n",
       "    <tr>\n",
       "      <th>1455</th>\n",
       "      <td>2916</td>\n",
       "      <td>82892.500497</td>\n",
       "    </tr>\n",
       "    <tr>\n",
       "      <th>1456</th>\n",
       "      <td>2917</td>\n",
       "      <td>170927.018441</td>\n",
       "    </tr>\n",
       "    <tr>\n",
       "      <th>1457</th>\n",
       "      <td>2918</td>\n",
       "      <td>123187.831120</td>\n",
       "    </tr>\n",
       "    <tr>\n",
       "      <th>1458</th>\n",
       "      <td>2919</td>\n",
       "      <td>234139.937661</td>\n",
       "    </tr>\n",
       "  </tbody>\n",
       "</table>\n",
       "<p>1459 rows × 2 columns</p>\n",
       "</div>"
      ],
      "text/plain": [
       "        Id      SalePrice\n",
       "0     1461  124201.047957\n",
       "1     1462  172884.622848\n",
       "2     1463  189937.301476\n",
       "3     1464  190720.089689\n",
       "4     1465  188242.227827\n",
       "...    ...            ...\n",
       "1454  2915   80899.859363\n",
       "1455  2916   82892.500497\n",
       "1456  2917  170927.018441\n",
       "1457  2918  123187.831120\n",
       "1458  2919  234139.937661\n",
       "\n",
       "[1459 rows x 2 columns]"
      ]
     },
     "execution_count": 82,
     "metadata": {},
     "output_type": "execute_result"
    }
   ],
   "source": [
    "output = pd.DataFrame(columns=[\"Id\",\"SalePrice\"])\n",
    "output[\"Id\"] = df_test.Id\n",
    "output[\"SalePrice\"] = cbRegressor_pipeline.predict(X_test)\n",
    "output"
   ]
  },
  {
   "cell_type": "code",
   "execution_count": 83,
   "id": "0bfad761-ca60-46b3-875d-413b2c53586f",
   "metadata": {},
   "outputs": [
    {
     "name": "stdout",
     "output_type": "stream",
     "text": [
      "Submission succesful!\n"
     ]
    }
   ],
   "source": [
    "output.to_csv('submission.csv', index=False)\n",
    "print('Submission succesful!')"
   ]
  },
  {
   "cell_type": "markdown",
   "id": "c44a18fe-b168-4837-98cf-d8d0d3ec8269",
   "metadata": {
    "tags": []
   },
   "source": [
    "<a id='model'></a>\n",
    "## **MODELS**"
   ]
  }
 ],
 "metadata": {
  "celltoolbar": "Slideshow",
  "kernelspec": {
   "display_name": "Python 3 (ipykernel)",
   "language": "python",
   "name": "python3"
  },
  "language_info": {
   "codemirror_mode": {
    "name": "ipython",
    "version": 3
   },
   "file_extension": ".py",
   "mimetype": "text/x-python",
   "name": "python",
   "nbconvert_exporter": "python",
   "pygments_lexer": "ipython3",
   "version": "3.9.12"
  }
 },
 "nbformat": 4,
 "nbformat_minor": 5
}
